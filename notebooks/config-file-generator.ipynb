{
 "cells": [
  {
   "cell_type": "code",
   "execution_count": 77,
   "id": "c67747c9-ed3f-4cc7-896c-a29cbe30656f",
   "metadata": {
    "tags": []
   },
   "outputs": [],
   "source": [
    "import numpy as np\n",
    "import pprint as pp"
   ]
  },
  {
   "cell_type": "code",
   "execution_count": 78,
   "id": "551af5cb-46c1-457f-9e11-7252f9038e17",
   "metadata": {
    "tags": []
   },
   "outputs": [],
   "source": [
    "def write_yaml_file(file, data):\n",
    "    with open(file, \"w\") as f:\n",
    "        f.writelines(x + '\\n' for x in data)"
   ]
  },
  {
   "cell_type": "code",
   "execution_count": 79,
   "id": "86fae3ba-f26a-4fae-b77a-3e055977b102",
   "metadata": {
    "tags": []
   },
   "outputs": [],
   "source": [
    "def dict_to_file(options, path):\n",
    "    data = []\n",
    "    for opt in options.keys():\n",
    "        data.append(f\"{opt}: {str(options[opt])}\")\n",
    "    \n",
    "    file_name = f\"params_{options['type']}_{options['alphas'][0]}_{options['negative_fix'][0]}_{options['tail_sizes'][0]}-{options['tail_sizes'][-1]}_{options['distance_multipls'][0]}-{options['distance_multipls'][-1]}.yaml\"\n",
    "    write_yaml_file(path + file_name, data)"
   ]
  },
  {
   "cell_type": "code",
   "execution_count": 80,
   "id": "17ba612c-b042-4e98-a1a2-18ae048040c6",
   "metadata": {
    "tags": []
   },
   "outputs": [],
   "source": [
    "options = {\n",
    "    \"type\": \"\" ,\n",
    "    \"learning_rate\": 0.01,\n",
    "    \"momentum\": 0.9,\n",
    "    \"epochs\": 1,\n",
    "    \"batch_size\": 32,\n",
    "    \"num_clusters_per_class_input\": [],\n",
    "    \"num_clusters_per_class_features\": [],\n",
    "    \"alphas\": \"\",\n",
    "    \"tail_sizes\" : [],\n",
    "    \"distance_multipls\": [],\n",
    "    \"negative_fix\": \"\",\n",
    "    \"normalize_factor\": \"\",\n",
    "    \"logger_output\": \"false\",\n",
    "    \"train_only\": \"false\",\n",
    "    \"log_dir\": \"./logs/\",\n",
    "    \"saved_models_dir\": \"./saved_models/\",\n",
    "    \"experiment_data_dir\": \"./experiment_data/\",\n",
    "    \"emnist_dir\": \"./downloads/\",\n",
    "    \"thresholds\": [0.0001, 0.001, 0.01, 0.1, 0.3, 0.5, 0.7]\n",
    "}"
   ]
  },
  {
   "cell_type": "code",
   "execution_count": 81,
   "id": "ae759fd4-a269-4e87-9619-ce205875264e",
   "metadata": {
    "tags": []
   },
   "outputs": [],
   "source": [
    "types = [\"base\", \"input-cluster\", \"validation-features-cluster\", \"training-features-cluster\", \"input-validation-features-cluster\", \"input-validation-features-cluster\"]\n",
    "negative_fixes = [\"ORIGINAL\", \"NEGATIVE_VALUE\", \"VALUE_SHIFT\"]\n",
    "norm = [\"NONE\", \"WEIGHTS\", \"N-CLASSES\", \"NORM-WEIGHTS\"]\n",
    "path = \"../configs/base/\""
   ]
  },
  {
   "cell_type": "markdown",
   "id": "b5371604-3b15-4785-8e9b-a7ea4be48f53",
   "metadata": {},
   "source": [
    "## Experiment 1"
   ]
  },
  {
   "cell_type": "code",
   "execution_count": 82,
   "id": "2bb637cc-e141-487f-8bf3-03fa3ebfdde6",
   "metadata": {
    "tags": []
   },
   "outputs": [
    {
     "name": "stdout",
     "output_type": "stream",
     "text": [
      "[[10, 25, 50, 75, 100, 200, 300, 400], [500, 600, 700, 800, 900, 1000, 1100, 1200], [1300, 1400, 1500, 1600, 1700, 1800, 1900, 2000], [2100, 2200, 2300, 2400, 2500, 2600, 2700, 2800], [2900, 3000, 3100, 3200, 3300, 3400, 3500, 3600], [3700, 3800, 3900, 4000, 4100, 4200, 4300, 4400], [4500, 4600, 4700, 4800, 4900, 5000]]\n",
      "[[1.1, 1.25, 1.5, 1.75, 2.0], [2.25, 2.5, 2.75, 3.0, 3.25], [3.5, 3.75, 4.0, 4.25, 4.5], [4.75, 5.0, 5.25, 5.5, 5.75]]\n"
     ]
    }
   ],
   "source": [
    "typ = types[0]\n",
    "alphas = [-1, 3, 5, 7, 10]\n",
    "tail_sizes = [10, 25, 50, 75] + np.arange(0, 5100, 100)[1:].tolist()\n",
    "n = 8\n",
    "per_file_tail_sizes = [tail_sizes[i:i + n] for i in range(0, len(tail_sizes), n)]\n",
    "print(per_file_tail_sizes)\n",
    "dist_multpl = [1.1] + np.arange(1.25, 6, 0.25).tolist()\n",
    "n = 5\n",
    "per_file_dist = [dist_multpl[i:i + n] for i in range(0, len(dist_multpl), n)]\n",
    "print(per_file_dist)"
   ]
  },
  {
   "cell_type": "code",
   "execution_count": 83,
   "id": "9d4fbd98-24e0-42b7-9dc1-de0b5c6d1368",
   "metadata": {
    "tags": []
   },
   "outputs": [],
   "source": [
    "for a in alphas:\n",
    "    for nf in negative_fixes:\n",
    "        for no in norm:\n",
    "            for ts in per_file_tail_sizes:\n",
    "                for d in per_file_dist:\n",
    "                    for n in norm:\n",
    "                        options['type'] = typ\n",
    "                        options['alphas'] = [a]\n",
    "                        options['tail_sizes'] = ts\n",
    "                        options['distance_multipls'] = d\n",
    "                        options['negative_fix'] = [nf]\n",
    "                        options['normalize_factor'] = n\n",
    "                        dict_to_file(options, path)"
   ]
  }
 ],
 "metadata": {
  "kernelspec": {
   "display_name": "openset-imagenet-comparison",
   "language": "python",
   "name": "openset-imagenet-comparison"
  },
  "language_info": {
   "codemirror_mode": {
    "name": "ipython",
    "version": 3
   },
   "file_extension": ".py",
   "mimetype": "text/x-python",
   "name": "python",
   "nbconvert_exporter": "python",
   "pygments_lexer": "ipython3",
   "version": "3.8.17"
  }
 },
 "nbformat": 4,
 "nbformat_minor": 5
}
