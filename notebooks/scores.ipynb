{
 "cells": [
  {
   "cell_type": "code",
   "execution_count": 195,
   "id": "c4c77b2a-22b1-4082-8a8d-62fd104e0be1",
   "metadata": {
    "tags": []
   },
   "outputs": [],
   "source": [
    "import pickle\n",
    "import matplotlib.pyplot as plt\n",
    "import numpy as np\n",
    "from pprint import pprint\n",
    "import pandas as pd\n",
    "pd.set_option('display.max_rows', None)"
   ]
  },
  {
   "cell_type": "code",
   "execution_count": 114,
   "id": "23356a9e-1084-4f5c-a8a0-f755a22d3b5a",
   "metadata": {
    "tags": []
   },
   "outputs": [],
   "source": [
    "def write_yaml_file(file, data):\n",
    "    with open(file, \"w\") as f:\n",
    "        f.writelines(x + '\\n' for x in data)"
   ]
  },
  {
   "cell_type": "code",
   "execution_count": 126,
   "id": "70b0e206-c2a2-45c6-8228-670df444f864",
   "metadata": {
    "tags": []
   },
   "outputs": [],
   "source": [
    "def load_pkl_dict(filename, folder):\n",
    "    with open(folder + filename, \"rb\") as f:\n",
    "        loaded_file = pickle.load(f)\n",
    "        df = pd.DataFrame.from_dict(loaded_file, orient='columns')\n",
    "        return df"
   ]
  },
  {
   "cell_type": "code",
   "execution_count": 248,
   "id": "444a52ed-aa1e-444d-a882-0f07044aef8d",
   "metadata": {
    "tags": []
   },
   "outputs": [],
   "source": [
    "def ranking_scores(alphas, norms, neg_fix, input_cluster, feature_cluster, types):\n",
    "    folder = \"../../experiment_data/results/\"\n",
    "    dfs = []\n",
    "    for t in types:\n",
    "        for alpha in alphas:\n",
    "            for norm in norms:\n",
    "                for fix in neg_fix:\n",
    "                    for ic in input_cluster:\n",
    "                        for fc in feature_cluster:\n",
    "                            df = load_pkl_dict(f\"oscr_data_{t}_{ic}_{fc}_{alpha}_{fix}_{norm}.pkl\", folder)\n",
    "                            df['TYPE'] = t\n",
    "                            df['ALPHA'] = alpha\n",
    "                            df['NORM'] = norm\n",
    "                            df['NEGATIVE_FIX'] = fix\n",
    "                            df['INPUT-CLUSTER'] = ic\n",
    "                            df['FEATURE-CLUSTER'] = fc\n",
    "                            df['GAMMA+'] = df['GAMMA'].apply(lambda x: x[1])\n",
    "                            df['GAMMA-'] = df['GAMMA'].apply(lambda x: x[2])\n",
    "                            df['GAMMA_TOTAL'] = df['GAMMA'].apply(lambda x: x[0])\n",
    "                            df['EPSILON_TOTAL'] = df['EPSILON'].apply(lambda x: x[0])\n",
    "                            df['CCR'] = df['CCR-FPR'].apply(lambda x: x[0])\n",
    "                            df['FPR'] = df['CCR-FPR'].apply(lambda x: x[1])\n",
    "                            \n",
    "                    dfs.append(df)\n",
    "    df_final = pd.concat(dfs)\n",
    "    return df_final"
   ]
  },
  {
   "cell_type": "code",
   "execution_count": 255,
   "id": "c9d22937-a56a-46a0-a55f-b2e9783e46a3",
   "metadata": {
    "tags": []
   },
   "outputs": [],
   "source": [
    "alphas = [-1, 3, 5, 7, 10]\n",
    "norms = [\"NONE\", \"WEIGHTS\", \"N-CLASSES\", \"NORM-WEIGHTS\"]\n",
    "neg_fixes = [\"ORIGINAL\", \"NEGATIVE_VALUE\", \"VALUE_SHIFT\"]\n",
    "types = [\"base\", \"input-cluster\", \"validation-features-cluster\", \"training-features-cluster\", \"input-validation-features-cluster\", \"input-validation-features-cluster\"]\n",
    "input_cluster = [1]\n",
    "feature_cluster = [1]\n",
    "df = ranking_scores(alphas, norms, neg_fixes, input_cluster, feature_cluster, types[:1])"
   ]
  },
  {
   "cell_type": "code",
   "execution_count": 271,
   "id": "9059942c-1b72-40d3-bcf9-7020761d3cec",
   "metadata": {
    "tags": []
   },
   "outputs": [
    {
     "name": "stdout",
     "output_type": "stream",
     "text": [
      "           ALPHA       NORM    NEGATIVE_FIX  GAMMA_TOTAL  EPSILON_TOTAL  \\\n",
      "6000-1.3      -1  N-CLASSES  NEGATIVE_VALUE     0.825017         3.7674   \n",
      "6000-1.2      -1  N-CLASSES  NEGATIVE_VALUE     0.825003         4.3516   \n",
      "4900-1.1      -1  N-CLASSES  NEGATIVE_VALUE     0.824674         3.7562   \n",
      "4800-1.1      -1  N-CLASSES  NEGATIVE_VALUE     0.824624         3.7568   \n",
      "4700-1.1      -1  N-CLASSES  NEGATIVE_VALUE     0.824521         4.3355   \n",
      "4500-1.05     -1  N-CLASSES  NEGATIVE_VALUE     0.824408         3.7528   \n",
      "4600-1.05     -1  N-CLASSES  NEGATIVE_VALUE     0.824393         3.7523   \n",
      "4400-1.05     -1  N-CLASSES  NEGATIVE_VALUE     0.824369         4.3322   \n",
      "4600-1.1      -1  N-CLASSES  NEGATIVE_VALUE     0.824364         3.7585   \n",
      "4700-1.05     -1  N-CLASSES  NEGATIVE_VALUE     0.824327         3.7522   \n",
      "4300-1.05     -1  N-CLASSES  NEGATIVE_VALUE     0.824270         3.7535   \n",
      "4800-1.05     -1  N-CLASSES  NEGATIVE_VALUE     0.824213         4.3417   \n",
      "4500-1.1      -1  N-CLASSES  NEGATIVE_VALUE     0.824155         3.7590   \n",
      "4200-1.05     -1  N-CLASSES  NEGATIVE_VALUE     0.824110         3.7536   \n",
      "4100-1.0      -1  N-CLASSES  NEGATIVE_VALUE     0.824102         3.7500   \n",
      "\n",
      "                                                                                                                                                        EPSILON  \n",
      "6000-1.3   (3.7674000000000003, [(0.0001, [0.]), (0.001, [0.]), (0.01, [0.]), (0.1, [0.]), (0.2, [0.8517]), (0.5, [0.9552]), (0.7, [0.9733]), (1.0, [0.9872])])  \n",
      "6000-1.2              (4.3516, [(0.0001, [0.]), (0.001, [0.]), (0.01, [0.]), (0.1, [0.5913]), (0.2, [0.852]), (0.5, [0.9516]), (0.7, [0.97]), (1.0, [0.9867])])  \n",
      "4900-1.1   (3.7561999999999998, [(0.0001, [0.]), (0.001, [0.]), (0.01, [0.]), (0.1, [0.]), (0.2, [0.8515]), (0.5, [0.9494]), (0.7, [0.9689]), (1.0, [0.9864])])  \n",
      "4800-1.1               (3.7568, [(0.0001, [0.]), (0.001, [0.]), (0.01, [0.]), (0.1, [0.]), (0.2, [0.8513]), (0.5, [0.9502]), (0.7, [0.9689]), (1.0, [0.9864])])  \n",
      "4700-1.1           (4.3355, [(0.0001, [0.]), (0.001, [0.]), (0.01, [0.]), (0.1, [0.5785]), (0.2, [0.8509]), (0.5, [0.9508]), (0.7, [0.9689]), (1.0, [0.9864])])  \n",
      "4500-1.05  (3.7527999999999997, [(0.0001, [0.]), (0.001, [0.]), (0.01, [0.]), (0.1, [0.]), (0.2, [0.8501]), (0.5, [0.9482]), (0.7, [0.9683]), (1.0, [0.9862])])  \n",
      "4600-1.05               (3.7523, [(0.0001, [0.]), (0.001, [0.]), (0.01, [0.]), (0.1, [0.]), (0.2, [0.8502]), (0.5, [0.9479]), (0.7, [0.968]), (1.0, [0.9862])])  \n",
      "4400-1.05          (4.3322, [(0.0001, [0.]), (0.001, [0.]), (0.01, [0.]), (0.1, [0.5785]), (0.2, [0.8501]), (0.5, [0.9486]), (0.7, [0.9688]), (1.0, [0.9862])])  \n",
      "4600-1.1   (3.7584999999999997, [(0.0001, [0.]), (0.001, [0.]), (0.01, [0.]), (0.1, [0.]), (0.2, [0.8512]), (0.5, [0.9515]), (0.7, [0.9693]), (1.0, [0.9865])])  \n",
      "4700-1.05              (3.7522, [(0.0001, [0.]), (0.001, [0.]), (0.01, [0.]), (0.1, [0.]), (0.2, [0.8506]), (0.5, [0.9472]), (0.7, [0.9682]), (1.0, [0.9862])])  \n",
      "4300-1.05              (3.7535, [(0.0001, [0.]), (0.001, [0.]), (0.01, [0.]), (0.1, [0.]), (0.2, [0.8493]), (0.5, [0.9491]), (0.7, [0.9689]), (1.0, [0.9862])])  \n",
      "4800-1.05             (4.3417, [(0.0001, [0.]), (0.001, [0.]), (0.01, [0.]), (0.1, [0.59]), (0.2, [0.8508]), (0.5, [0.947]), (0.7, [0.9678]), (1.0, [0.9861])])  \n",
      "4500-1.1   (3.7590000000000003, [(0.0001, [0.]), (0.001, [0.]), (0.01, [0.]), (0.1, [0.]), (0.2, [0.8512]), (0.5, [0.9519]), (0.7, [0.9694]), (1.0, [0.9865])])  \n",
      "4200-1.05              (3.7536, [(0.0001, [0.]), (0.001, [0.]), (0.01, [0.]), (0.1, [0.]), (0.2, [0.8492]), (0.5, [0.9494]), (0.7, [0.9688]), (1.0, [0.9862])])  \n",
      "4100-1.0                 (3.75, [(0.0001, [0.]), (0.001, [0.]), (0.01, [0.]), (0.1, [0.]), (0.2, [0.8497]), (0.5, [0.9467]), (0.7, [0.9675]), (1.0, [0.9861])])  \n",
      "           ALPHA       NORM    NEGATIVE_FIX  GAMMA_TOTAL  EPSILON_TOTAL  \\\n",
      "6000-1.0      -1  N-CLASSES  NEGATIVE_VALUE     0.815960         4.3735   \n",
      "6000-1.05     -1  N-CLASSES  NEGATIVE_VALUE     0.819393         4.3664   \n",
      "6000-1.1      -1  N-CLASSES  NEGATIVE_VALUE     0.822010         4.3605   \n",
      "6000-1.2      -1  N-CLASSES  NEGATIVE_VALUE     0.825003         4.3516   \n",
      "4800-1.05     -1  N-CLASSES  NEGATIVE_VALUE     0.824213         4.3417   \n",
      "4700-1.1      -1  N-CLASSES  NEGATIVE_VALUE     0.824521         4.3355   \n",
      "4400-1.05     -1  N-CLASSES  NEGATIVE_VALUE     0.824369         4.3322   \n",
      "5900-1.0      -1  N-CLASSES     VALUE_SHIFT     0.799153         4.3259   \n",
      "5800-1.0      -1  N-CLASSES     VALUE_SHIFT     0.800285         4.3241   \n",
      "5600-1.0      -1  N-CLASSES     VALUE_SHIFT     0.802560         4.3187   \n",
      "5500-1.0      -1  N-CLASSES     VALUE_SHIFT     0.803681         4.3153   \n",
      "5500-1.0      -1    WEIGHTS     VALUE_SHIFT     0.809420         4.3150   \n",
      "5200-1.0      -1  N-CLASSES     VALUE_SHIFT     0.806754         4.3141   \n",
      "5700-1.05     -1    WEIGHTS     VALUE_SHIFT     0.811460         4.3126   \n",
      "5500-1.05     -1  N-CLASSES     VALUE_SHIFT     0.808035         4.3121   \n",
      "\n",
      "                                                                                                                                                          EPSILON  \n",
      "6000-1.0             (4.3735, [(0.0001, [0.]), (0.001, [0.]), (0.01, [0.]), (0.1, [0.6352]), (0.2, [0.8518]), (0.5, [0.9397]), (0.7, [0.9612]), (1.0, [0.9856])])  \n",
      "6000-1.05            (4.3664, [(0.0001, [0.]), (0.001, [0.]), (0.01, [0.]), (0.1, [0.6219]), (0.2, [0.8512]), (0.5, [0.9429]), (0.7, [0.9643]), (1.0, [0.9861])])  \n",
      "6000-1.1              (4.3605, [(0.0001, [0.]), (0.001, [0.]), (0.01, [0.]), (0.1, [0.6119]), (0.2, [0.8513]), (0.5, [0.945]), (0.7, [0.9661]), (1.0, [0.9862])])  \n",
      "6000-1.2                (4.3516, [(0.0001, [0.]), (0.001, [0.]), (0.01, [0.]), (0.1, [0.5913]), (0.2, [0.852]), (0.5, [0.9516]), (0.7, [0.97]), (1.0, [0.9867])])  \n",
      "4800-1.05               (4.3417, [(0.0001, [0.]), (0.001, [0.]), (0.01, [0.]), (0.1, [0.59]), (0.2, [0.8508]), (0.5, [0.947]), (0.7, [0.9678]), (1.0, [0.9861])])  \n",
      "4700-1.1             (4.3355, [(0.0001, [0.]), (0.001, [0.]), (0.01, [0.]), (0.1, [0.5785]), (0.2, [0.8509]), (0.5, [0.9508]), (0.7, [0.9689]), (1.0, [0.9864])])  \n",
      "4400-1.05            (4.3322, [(0.0001, [0.]), (0.001, [0.]), (0.01, [0.]), (0.1, [0.5785]), (0.2, [0.8501]), (0.5, [0.9486]), (0.7, [0.9688]), (1.0, [0.9862])])  \n",
      "5900-1.0              (4.3259, [(0.0001, [0.]), (0.001, [0.]), (0.01, [0.]), (0.1, [0.6148]), (0.2, [0.8321]), (0.5, [0.935]), (0.7, [0.9597]), (1.0, [0.9843])])  \n",
      "5800-1.0             (4.3241, [(0.0001, [0.]), (0.001, [0.]), (0.01, [0.]), (0.1, [0.6125]), (0.2, [0.8313]), (0.5, [0.9359]), (0.7, [0.9601]), (1.0, [0.9843])])  \n",
      "5600-1.0             (4.3187, [(0.0001, [0.]), (0.001, [0.]), (0.01, [0.]), (0.1, [0.6059]), (0.2, [0.8314]), (0.5, [0.9366]), (0.7, [0.9605]), (1.0, [0.9843])])  \n",
      "5500-1.0              (4.3153, [(0.0001, [0.]), (0.001, [0.]), (0.01, [0.]), (0.1, [0.601]), (0.2, [0.8317]), (0.5, [0.9372]), (0.7, [0.9609]), (1.0, [0.9845])])  \n",
      "5500-1.0              (4.315, [(0.0001, [0.]), (0.001, [0.]), (0.01, [0.]), (0.1, [0.5973]), (0.2, [0.8324]), (0.5, [0.9393]), (0.7, [0.9614]), (1.0, [0.9846])])  \n",
      "5200-1.0             (4.3141, [(0.0001, [0.]), (0.001, [0.]), (0.01, [0.]), (0.1, [0.5961]), (0.2, [0.8319]), (0.5, [0.9393]), (0.7, [0.9621]), (1.0, [0.9847])])  \n",
      "5700-1.05               (4.3126, [(0.0001, [0.]), (0.001, [0.]), (0.01, [0.]), (0.1, [0.59]), (0.2, [0.8324]), (0.5, [0.9421]), (0.7, [0.9631]), (1.0, [0.985])])  \n",
      "5500-1.05  (4.312099999999999, [(0.0001, [0.]), (0.001, [0.]), (0.01, [0.]), (0.1, [0.5909]), (0.2, [0.8316]), (0.5, [0.9417]), (0.7, [0.9629]), (1.0, [0.985])])  \n"
     ]
    }
   ],
   "source": [
    "df_mod = df[df['NORM'] != 'NORM-WEIGHTS']\n",
    "df_mod = df_mod.drop_duplicates(subset=['ALPHA', 'NORM', 'NEGATIVE_FIX', 'GAMMA'], keep='first')\n",
    "df_mod = df_mod[df_mod['ALPHA'] == -1]\n",
    "\n",
    "\n",
    "top_gamma = df_mod.nlargest(15, 'GAMMA_TOTAL')\n",
    "top_eps = df_mod.nlargest(15, 'EPSILON_TOTAL')\n",
    "\n",
    "print_list = [ 'ALPHA', 'NORM', 'NEGATIVE_FIX', 'GAMMA_TOTAL', 'EPSILON_TOTAL', 'EPSILON' ]\n",
    "print(top_gamma[print_list])\n",
    "print(top_eps[print_list])"
   ]
  },
  {
   "cell_type": "code",
   "execution_count": 274,
   "id": "164f3917-b933-4f2a-831f-cfcf356584fe",
   "metadata": {
    "tags": []
   },
   "outputs": [
    {
     "data": {
      "image/png": "[encoded data removed]",
      "text/plain": [
       "<Figure size 640x480 with 1 Axes>"
      ]
     },
     "metadata": {},
     "output_type": "display_data"
    }
   ],
   "source": [
    "fig, axs = plt.subplots(1,1)\n",
    "\n",
    "axs.title.set_text(f\"PLOT\")\n",
    "axs.set_xlabel('FPR')\n",
    "axs.set_ylabel('CCR')\n",
    "axs.grid()\n",
    "axs.set_xscale('log')\n",
    "# axs[row][col].set_xlim([0, 1])  # sets the x-axis limits\n",
    "axs.set_ylim([0, 1]) # sets the y-axis limits\n",
    "axs.set_xlim(8 * 1e-5, 1.4)\n",
    "\n",
    "for index, row in top_gamma.head(1).iterrows():\n",
    "    axs.plot(row['FPR'], row['CCR'], label=f\"{index} - {row['ALPHA']}\")\n",
    "    \n",
    "for index, row in top_eps.head(1).iterrows():\n",
    "    axs.plot(row['FPR'], row['CCR'], label=f\"{index}\")\n",
    "\n",
    "    \n",
    "axs.legend(loc=\"upper left\")   \n",
    "plt.show()"
   ]
  },
  {
   "cell_type": "code",
   "execution_count": 217,
   "id": "5b8ad255-bf82-4e42-b1e1-72e14c1a123f",
   "metadata": {
    "tags": []
   },
   "outputs": [
    {
     "name": "stdout",
     "output_type": "stream",
     "text": [
      "Index: 6000-1.3, CCR: [0.9727 0.9727 0.9727 ... 0.5658 0.5545 0.5318], FPR: [1.         0.99988636 0.99977273 ... 0.09590909 0.09340909 0.08840909]\n",
      "Index: 6000-1.05, CCR: [0.9655 0.9655 0.9655 ... 0.6037 0.5937 0.5733], FPR: [1.         0.99988636 0.99977273 ... 0.10125    0.09875    0.09420455]\n"
     ]
    }
   ],
   "source": [
    "for index, row in top_gamma.head(2).iterrows():\n",
    "   print(f\"Index: {index}, CCR: {row['CCR']}, FPR: {row['FPR']}\")"
   ]
  }
 ],
 "metadata": {
  "kernelspec": {
   "display_name": "openset-imagenet-comparison",
   "language": "python",
   "name": "openset-imagenet-comparison"
  },
  "language_info": {
   "codemirror_mode": {
    "name": "ipython",
    "version": 3
   },
   "file_extension": ".py",
   "mimetype": "text/x-python",
   "name": "python",
   "nbconvert_exporter": "python",
   "pygments_lexer": "ipython3",
   "version": "3.8.17"
  }
 },
 "nbformat": 4,
 "nbformat_minor": 5
}
