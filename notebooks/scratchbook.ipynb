{
 "cells": [
  {
   "cell_type": "code",
   "execution_count": 4,
   "id": "c55ed813-e3c8-4858-aa22-d93a1101cbd3",
   "metadata": {
    "tags": []
   },
   "outputs": [],
   "source": [
    "import pickle\n",
    "import matplotlib.pyplot as plt\n",
    "import numpy as np\n",
    "import torch"
   ]
  },
  {
   "cell_type": "markdown",
   "id": "d87a06d4-61f2-4f02-bf06-fd1f1d143820",
   "metadata": {},
   "source": [
    "# Epsilon Metric"
   ]
  },
  {
   "cell_type": "code",
   "execution_count": 5,
   "id": "be238017-ef99-49f4-9c03-6e3c1d525f3a",
   "metadata": {
    "tags": []
   },
   "outputs": [],
   "source": [
    "def load_pkl_dict(filename):\n",
    "    folder = \"../experiment_data/\"\n",
    "    with open(folder + filename, \"rb\") as f:\n",
    "        loaded_file = pickle.load(f)\n",
    "        return loaded_file"
   ]
  },
  {
   "cell_type": "code",
   "execution_count": 6,
   "id": "493c414e-c6da-4329-9123-348ba611cdc7",
   "metadata": {
    "tags": []
   },
   "outputs": [
    {
     "ename": "KeyError",
     "evalue": "0",
     "output_type": "error",
     "traceback": [
      "\u001b[0;31m---------------------------------------------------------------------------\u001b[0m",
      "\u001b[0;31mKeyError\u001b[0m                                  Traceback (most recent call last)",
      "Cell \u001b[0;32mIn[6], line 1\u001b[0m\n\u001b[0;32m----> 1\u001b[0m inspect \u001b[38;5;241m=\u001b[39m \u001b[43mload_pkl_dict\u001b[49m\u001b[43m(\u001b[49m\u001b[38;5;124;43m\"\u001b[39;49m\u001b[38;5;124;43moscr_data_base_1_1_-1_ABS_REV_ACTV_N-CLASSES.pkl\u001b[39;49m\u001b[38;5;124;43m\"\u001b[39;49m\u001b[43m)\u001b[49m\u001b[43m[\u001b[49m\u001b[38;5;241;43m0\u001b[39;49m\u001b[43m]\u001b[49m\n\u001b[1;32m      2\u001b[0m inspect \u001b[38;5;241m=\u001b[39m inspect[\u001b[38;5;124m'\u001b[39m\u001b[38;5;124m1500-1.25\u001b[39m\u001b[38;5;124m'\u001b[39m]\n\u001b[1;32m      3\u001b[0m ccr \u001b[38;5;241m=\u001b[39m inspect[\u001b[38;5;241m0\u001b[39m]\n",
      "\u001b[0;31mKeyError\u001b[0m: 0"
     ]
    }
   ],
   "source": [
    "inspect = load_pkl_dict(\"oscr_data_base_1_1_-1_ABS_REV_ACTV_N-CLASSES.pkl\")[0]\n",
    "inspect = inspect['1500-1.25']\n",
    "ccr = inspect[0]\n",
    "fpr = inspect[1]\n",
    "print(f\"CCR (Y-axis): {ccr}\")\n",
    "print(f\"FPR (X-axis) non-log: {fpr}\")\n",
    "print(f\"FPR (X-axis) log: {np.log(fpr)}\")\n",
    "print(f\"Shape: CCR {ccr.shape} and FPR {fpr.shape}\")\n",
    "\n",
    "threshy = 0.6\n",
    "ar_diff = np.abs(fpr - threshy)\n",
    "idx = np.argmin(ar_diff)\n",
    "print(f\"At threshold {threshy} actual value in fpr {fpr[idx]} with corresponding CCR {ccr[idx]}\")\n",
    "\n",
    "def oscr_epsilon_ccr_at_fpr(ccr, fpr, fpr_thresholds):\n",
    "    threshold_values = []\n",
    "    for threshold in fpr_thresholds:\n",
    "        idx = np.where(fpr==threshold)\n",
    "        value = ccr[idx]\n",
    "        if value.shape[0] == 0: \n",
    "            value = np.append(value, 0.0)\n",
    "        threshold_values.append((threshold, value))\n",
    "    return np.sum([t[1] for t in threshold_values]), threshold_values\n",
    "\n",
    "t_list = [0.1, 0.2, 0.3, 0.4, 0.8]\n",
    "\n",
    "eps, t_val = oscr_epsilon_ccr_at_fpr(ccr, fpr, t_list)\n",
    "eps, t_val"
   ]
  },
  {
   "cell_type": "code",
   "execution_count": 7,
   "id": "32f85ead-d9c2-4f71-8585-e1237be35f8e",
   "metadata": {},
   "outputs": [
    {
     "name": "stdout",
     "output_type": "stream",
     "text": [
      "tensor([-0.6145, -0.1009, -0.6413,  0.6315, -1.8611, -2.6008,  0.1207,  1.4215,\n",
      "        -0.9523,  0.8357,  0.2424, -0.5427, -1.7616, -1.9449,  1.1319, -1.3818,\n",
      "         1.3361,  1.1566, -0.7354, -0.4909, -1.6611,  0.0519, -1.3816,  0.2349,\n",
      "         0.8422, -1.1532, -0.4596, -0.2842,  1.0712, -0.6280, -0.3555, -0.4469,\n",
      "         0.8330,  0.8367, -0.8764,  0.0221, -1.2065, -2.2033, -0.5871, -1.2283,\n",
      "         0.3053,  0.0940, -1.7790,  0.0072, -1.0865, -0.3080, -0.4726, -0.5434,\n",
      "        -0.5939, -0.6636])\n",
      "tensor([[-0.6145, -0.1009, -0.6413,  0.6315, -1.8611],\n",
      "        [-2.6008,  0.1207,  1.4215, -0.9523,  0.8357],\n",
      "        [ 0.2424, -0.5427, -1.7616, -1.9449,  1.1319],\n",
      "        [-1.3818,  1.3361,  1.1566, -0.7354, -0.4909],\n",
      "        [-1.6611,  0.0519, -1.3816,  0.2349,  0.8422],\n",
      "        [-1.1532, -0.4596, -0.2842,  1.0712, -0.6280],\n",
      "        [-0.3555, -0.4469,  0.8330,  0.8367, -0.8764],\n",
      "        [ 0.0221, -1.2065, -2.2033, -0.5871, -1.2283],\n",
      "        [ 0.3053,  0.0940, -1.7790,  0.0072, -1.0865],\n",
      "        [-0.3080, -0.4726, -0.5434, -0.5939, -0.6636]])\n"
     ]
    }
   ],
   "source": [
    "# Assume x is your [1000, 50] tensor\n",
    "x = torch.randn(1000, 50)\n",
    "print(x[0])\n",
    "# Reshape the tensor to [1000, 10, 5]\n",
    "x_reshaped = x.view(1000, 10, 5)\n",
    "print(x_reshaped[0])"
   ]
  },
  {
   "cell_type": "code",
   "execution_count": 8,
   "id": "7850a9f0-26c2-4190-98cc-a5cc09c7452b",
   "metadata": {
    "tags": []
   },
   "outputs": [
    {
     "data": {
      "text/plain": [
       "tensor([ 0.6315,  1.4215,  1.1319,  1.3361,  0.8422,  1.0712,  0.8367,  0.0221,\n",
       "         0.3053, -0.3080])"
      ]
     },
     "execution_count": 8,
     "metadata": {},
     "output_type": "execute_result"
    }
   ],
   "source": [
    "# Use torch.max on the last dimension\n",
    "output, _ = torch.max(x_reshaped, dim=2)\n",
    "output[0]"
   ]
  },
  {
   "cell_type": "code",
   "execution_count": 9,
   "id": "3b7ac3d1-fb3d-4325-bce8-68af39ca94ec",
   "metadata": {
    "tags": []
   },
   "outputs": [],
   "source": [
    "def multiply_tensors_with_sign(sorted_activations, weights):\n",
    "    mask = sorted_activations < 0\n",
    "    weights[mask] = 2 - weights[mask]\n",
    "    return sorted_activations * weights"
   ]
  },
  {
   "cell_type": "code",
   "execution_count": 10,
   "id": "a840b38c-c508-49d1-9b76-9fd72a02577c",
   "metadata": {
    "tags": []
   },
   "outputs": [],
   "source": [
    "def value_shift(sorted_activations):\n",
    "    min_values = torch.min(sorted_activations, dim=1).values\n",
    "\n",
    "    # Reshape the min_values tensor to match the shape of 'a' for broadcasting\n",
    "    min_values_reshaped = min_values.view(-1, 1)\n",
    "    min_values_reshaped_abs = torch.abs(min_values_reshaped)\n",
    "\n",
    "    # Add the minimum values to the corresponding rows of the original tensor\n",
    "    return torch.add(sorted_activations, min_values_reshaped_abs)"
   ]
  },
  {
   "cell_type": "code",
   "execution_count": 11,
   "id": "897ac867-093f-4c58-acd9-d81b1e84960e",
   "metadata": {
    "tags": []
   },
   "outputs": [
    {
     "data": {
      "text/plain": [
       "tensor([[-0.3003, -1.0985,  0.2176, -0.7032, -2.2400],\n",
       "        [ 0.8417,  1.0834, -0.6544, -0.6773,  0.9454],\n",
       "        [-1.1860, -1.1562,  0.2957, -1.3506,  0.6772],\n",
       "        [ 0.5114,  0.5328, -0.8902,  0.1429, -0.0282],\n",
       "        [-0.7869,  1.2258,  0.6152,  0.8106, -0.6285]])"
      ]
     },
     "execution_count": 11,
     "metadata": {},
     "output_type": "execute_result"
    }
   ],
   "source": [
    "randy = torch.randn(5,5)\n",
    "randy"
   ]
  },
  {
   "cell_type": "code",
   "execution_count": 12,
   "id": "24710ec3-133e-4b14-85f1-098491b1a307",
   "metadata": {
    "tags": []
   },
   "outputs": [
    {
     "data": {
      "text/plain": [
       "tensor([[0.7157, 0.7896, 0.1451, 0.8449, 0.9600],\n",
       "        [0.1111, 0.0299, 0.5465, 0.1389, 0.5771],\n",
       "        [0.7874, 0.4050, 0.6742, 0.8344, 0.1365],\n",
       "        [0.3927, 0.5948, 0.4210, 0.2279, 0.8987],\n",
       "        [0.0141, 0.0490, 0.6527, 0.3933, 0.5038]])"
      ]
     },
     "execution_count": 12,
     "metadata": {},
     "output_type": "execute_result"
    }
   ],
   "source": [
    "rando = torch.rand(5, 5)\n",
    "rando"
   ]
  },
  {
   "cell_type": "code",
   "execution_count": 13,
   "id": "aecb415d-338a-4095-a4e3-ad89ead9b88c",
   "metadata": {
    "tags": []
   },
   "outputs": [],
   "source": [
    "val = value_shift(randy) * rando"
   ]
  },
  {
   "cell_type": "code",
   "execution_count": 14,
   "id": "6ddc50a3-c07a-409a-9f26-2fd93abcfb2e",
   "metadata": {
    "tags": []
   },
   "outputs": [],
   "source": [
    "abs_value = multiply_tensors_with_sign(randy, rando)"
   ]
  },
  {
   "cell_type": "code",
   "execution_count": 15,
   "id": "55e1df5d-961d-43d3-9b9e-ec44d11493ae",
   "metadata": {
    "tags": []
   },
   "outputs": [
    {
     "data": {
      "text/plain": [
       "(tensor([[-0.3856, -1.3296,  0.0316, -0.8123, -2.3296],\n",
       "         [ 0.0935,  0.0324, -0.9511, -1.2604,  0.5456],\n",
       "         [-1.4381, -1.8442,  0.1994, -1.5742,  0.0924],\n",
       "         [ 0.2009,  0.3169, -1.4057,  0.0326, -0.0310],\n",
       "         [-1.5626,  0.0601,  0.4015,  0.3188, -0.9404]]),\n",
       " tensor([[0.2701, 0.1051, 0.4099, 0.1763, 0.0387],\n",
       "         [0.2426, 0.2282, 0.0853, 0.0626, 0.3812],\n",
       "         [0.0813, 0.0542, 0.4180, 0.0709, 0.3756],\n",
       "         [0.2524, 0.2835, 0.0506, 0.2133, 0.2002],\n",
       "         [0.0463, 0.2343, 0.3297, 0.3035, 0.0862]]),\n",
       " torch.return_types.max(\n",
       " values=tensor([0.4099, 0.3812, 0.4180, 0.2835, 0.3297]),\n",
       " indices=tensor([2, 4, 2, 1, 2])))"
      ]
     },
     "execution_count": 15,
     "metadata": {},
     "output_type": "execute_result"
    }
   ],
   "source": [
    "softmax_abs = torch.nn.functional.softmax(abs_value, dim=1)\n",
    "abs_value, softmax_abs, torch.max(softmax_abs, dim=1)"
   ]
  },
  {
   "cell_type": "code",
   "execution_count": 16,
   "id": "412368fd-370c-4c8e-80d7-b06bfb3ba139",
   "metadata": {
    "tags": []
   },
   "outputs": [
    {
     "data": {
      "text/plain": [
       "(tensor([[1.3882, 0.9013, 0.3565, 1.2984, 0.0000],\n",
       "         [0.1687, 0.0526, 0.0125, 0.0000, 0.9365],\n",
       "         [0.1296, 0.0787, 1.1099, 0.0000, 0.2768],\n",
       "         [0.5505, 0.8464, 0.0000, 0.2354, 0.7747],\n",
       "         [0.0000, 0.0986, 0.9151, 0.6283, 0.0798]]),\n",
       " tensor([[0.3190, 0.1961, 0.1137, 0.2916, 0.0796],\n",
       "         [0.1740, 0.1550, 0.1489, 0.1470, 0.3751],\n",
       "         [0.1503, 0.1429, 0.4006, 0.1320, 0.1742],\n",
       "         [0.2040, 0.2742, 0.1176, 0.1489, 0.2553],\n",
       "         [0.1323, 0.1460, 0.3304, 0.2480, 0.1433]]),\n",
       " torch.return_types.max(\n",
       " values=tensor([0.3190, 0.3751, 0.4006, 0.2742, 0.3304]),\n",
       " indices=tensor([0, 4, 2, 1, 2])))"
      ]
     },
     "execution_count": 16,
     "metadata": {},
     "output_type": "execute_result"
    }
   ],
   "source": [
    "softmax_val = torch.nn.functional.softmax(val, dim=1)\n",
    "val, softmax_val, torch.max(softmax_val, dim=1)"
   ]
  },
  {
   "cell_type": "code",
   "execution_count": 17,
   "id": "6c16e71e-2d58-421c-9d6f-2bc57a27d8e7",
   "metadata": {
    "tags": []
   },
   "outputs": [
    {
     "data": {
      "text/plain": [
       "tensor([3.9444, 1.1703, 1.5950, 2.4070, 1.7218])"
      ]
     },
     "execution_count": 17,
     "metadata": {},
     "output_type": "execute_result"
    }
   ],
   "source": [
    "total = torch.sum(val, dim=1)\n",
    "total"
   ]
  },
  {
   "cell_type": "code",
   "execution_count": 18,
   "id": "1a769a66-87dc-40ed-a873-d43a950d7d24",
   "metadata": {
    "tags": []
   },
   "outputs": [
    {
     "data": {
      "text/plain": [
       "array([[ 0,  1,  2,  3,  4],\n",
       "       [ 5,  6,  7,  8,  9],\n",
       "       [10, 11, 12, 13, 14],\n",
       "       [15, 16, 17, 18, 19],\n",
       "       [20, 21, 22, 23, 24]])"
      ]
     },
     "execution_count": 18,
     "metadata": {},
     "output_type": "execute_result"
    }
   ],
   "source": [
    "matrix = np.arange(25).reshape((5,5))\n",
    "matrix"
   ]
  },
  {
   "cell_type": "code",
   "execution_count": 19,
   "id": "57db7d63-e919-48c0-ac30-e8a5b1319baf",
   "metadata": {
    "tags": []
   },
   "outputs": [
    {
     "data": {
      "text/plain": [
       "array([ 4,  9, 14, 19, 24])"
      ]
     },
     "execution_count": 19,
     "metadata": {},
     "output_type": "execute_result"
    }
   ],
   "source": [
    "maxi = np.max(matrix, axis=1)\n",
    "maxi"
   ]
  },
  {
   "cell_type": "code",
   "execution_count": 20,
   "id": "99b4f85e-b80e-4dda-8787-dd726b81f07b",
   "metadata": {
    "tags": []
   },
   "outputs": [
    {
     "data": {
      "text/plain": [
       "70"
      ]
     },
     "execution_count": 20,
     "metadata": {},
     "output_type": "execute_result"
    }
   ],
   "source": [
    "summe = np.sum(maxi)\n",
    "summe"
   ]
  },
  {
   "cell_type": "code",
   "execution_count": 21,
   "id": "4b445f33-055e-40d8-a5fb-bd97b96df74d",
   "metadata": {
    "tags": []
   },
   "outputs": [
    {
     "data": {
      "text/plain": [
       "(array([False,  True,  True,  True,  True]),\n",
       " array([1, 2, 3, 4]),\n",
       " array([[ 5,  6,  7,  8,  9],\n",
       "        [10, 11, 12, 13, 14],\n",
       "        [15, 16, 17, 18, 19],\n",
       "        [20, 21, 22, 23, 24]]))"
      ]
     },
     "execution_count": 21,
     "metadata": {},
     "output_type": "execute_result"
    }
   ],
   "source": [
    "gt = np.arange(matrix.shape[0])\n",
    "mask = gt > 0\n",
    "mask, gt[mask], matrix[mask]"
   ]
  },
  {
   "cell_type": "code",
   "execution_count": 22,
   "id": "013c38c0-35ee-485a-8950-1a182d99ca64",
   "metadata": {
    "tags": []
   },
   "outputs": [
    {
     "name": "stdout",
     "output_type": "stream",
     "text": [
      "[1 2 3 4]\n",
      "[ 6 12 18 24]\n"
     ]
    }
   ],
   "source": [
    "# Retrieve the values\n",
    "values = matrix[mask][np.arange(matrix[mask].shape[0]), gt[mask]]\n",
    "print(gt[mask])\n",
    "\n",
    "print(values)"
   ]
  },
  {
   "cell_type": "code",
   "execution_count": 26,
   "id": "4859fddd-0967-4d70-9c1c-668fcdaa2513",
   "metadata": {},
   "outputs": [
    {
     "name": "stdout",
     "output_type": "stream",
     "text": [
      "<built-in function asctime>\n",
      "2023-11-20 19:36:31.707054\n"
     ]
    }
   ],
   "source": [
    "from datetime import datetime\n",
    "print(time.asctime)\n",
    "now = datetime.now()\n",
    "print(now)"
   ]
  }
 ],
 "metadata": {
  "kernelspec": {
   "display_name": "openset-imagenet-comparison",
   "language": "python",
   "name": "openset-imagenet-comparison"
  },
  "language_info": {
   "codemirror_mode": {
    "name": "ipython",
    "version": 3
   },
   "file_extension": ".py",
   "mimetype": "text/x-python",
   "name": "python",
   "nbconvert_exporter": "python",
   "pygments_lexer": "ipython3",
   "version": "3.8.17"
  }
 },
 "nbformat": 4,
 "nbformat_minor": 5
}
