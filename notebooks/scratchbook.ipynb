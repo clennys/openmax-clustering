{
 "cells": [
  {
   "cell_type": "code",
   "execution_count": 42,
   "id": "c55ed813-e3c8-4858-aa22-d93a1101cbd3",
   "metadata": {
    "tags": []
   },
   "outputs": [],
   "source": [
    "import pickle\n",
    "import matplotlib.pyplot as plt\n",
    "import numpy as np\n",
    "import torch"
   ]
  },
  {
   "cell_type": "markdown",
   "id": "d87a06d4-61f2-4f02-bf06-fd1f1d143820",
   "metadata": {},
   "source": [
    "# Epsilon Metric"
   ]
  },
  {
   "cell_type": "code",
   "execution_count": 43,
   "id": "be238017-ef99-49f4-9c03-6e3c1d525f3a",
   "metadata": {
    "tags": []
   },
   "outputs": [],
   "source": [
    "def load_pkl_dict(filename):\n",
    "    folder = \"../experiment_data/\"\n",
    "    with open(folder + filename, \"rb\") as f:\n",
    "        loaded_file = pickle.load(f)\n",
    "        return loaded_file"
   ]
  },
  {
   "cell_type": "code",
   "execution_count": 62,
   "id": "493c414e-c6da-4329-9123-348ba611cdc7",
   "metadata": {
    "tags": []
   },
   "outputs": [
    {
     "name": "stdout",
     "output_type": "stream",
     "text": [
      "CCR (Y-axis): [0.9881 0.9881 0.9881 ... 0.7871 0.7838 0.7756]\n",
      "FPR (X-axis) non-log: [1.         0.99988636 0.99977273 ... 0.25272727 0.24954545 0.24306818]\n",
      "FPR (X-axis) log: [ 0.00000000e+00 -1.13642821e-04 -2.27298558e-04 ... -1.37544435e+00\n",
      " -1.38811420e+00 -1.41441329e+00]\n",
      "Shape: CCR (6385,) and FPR (6385,)\n",
      "At threshold 0.6 actual value in fpr 0.6 with corresponding CCR 0.9753\n"
     ]
    },
    {
     "data": {
      "text/plain": [
       "(2.7737,\n",
       " [(0.1, array([0.])),\n",
       "  (0.2, array([0.])),\n",
       "  (0.3, array([0.8469])),\n",
       "  (0.4, array([0.943])),\n",
       "  (0.8, array([0.9838]))])"
      ]
     },
     "execution_count": 62,
     "metadata": {},
     "output_type": "execute_result"
    }
   ],
   "source": [
    "inspect = load_pkl_dict(\"oscr_data_base_1_1_-1_ABS_REV_ACTV_N-CLASSES.pkl\")[0]\n",
    "inspect = inspect['1500-1.25']\n",
    "ccr = inspect[0]\n",
    "fpr = inspect[1]\n",
    "print(f\"CCR (Y-axis): {ccr}\")\n",
    "print(f\"FPR (X-axis) non-log: {fpr}\")\n",
    "print(f\"FPR (X-axis) log: {np.log(fpr)}\")\n",
    "print(f\"Shape: CCR {ccr.shape} and FPR {fpr.shape}\")\n",
    "\n",
    "threshy = 0.6\n",
    "ar_diff = np.abs(fpr - threshy)\n",
    "idx = np.argmin(ar_diff)\n",
    "print(f\"At threshold {threshy} actual value in fpr {fpr[idx]} with corresponding CCR {ccr[idx]}\")\n",
    "\n",
    "def oscr_epsilon_ccr_at_fpr(ccr, fpr, fpr_thresholds):\n",
    "    threshold_values = []\n",
    "    for threshold in fpr_thresholds:\n",
    "        idx = np.where(fpr==threshold)\n",
    "        value = ccr[idx]\n",
    "        if value.shape[0] == 0: \n",
    "            value = np.append(value, 0.0)\n",
    "        threshold_values.append((threshold, value))\n",
    "    return np.sum([t[1] for t in threshold_values]), threshold_values\n",
    "\n",
    "t_list = [0.1, 0.2, 0.3, 0.4, 0.8]\n",
    "\n",
    "eps, t_val = oscr_epsilon_ccr_at_fpr(ccr, fpr, t_list)\n",
    "eps, t_val"
   ]
  },
  {
   "cell_type": "code",
   "execution_count": 45,
   "id": "32f85ead-d9c2-4f71-8585-e1237be35f8e",
   "metadata": {},
   "outputs": [
    {
     "name": "stdout",
     "output_type": "stream",
     "text": [
      "tensor([-0.0756, -0.0340,  0.3358,  0.6007,  1.4918, -0.3603,  0.2670,  0.2639,\n",
      "        -0.5271, -0.4247, -1.2626, -0.1973,  0.0466,  0.7138,  0.7984, -0.9028,\n",
      "         0.1227,  0.4770, -0.2349,  0.5676, -0.1189,  0.9912, -2.3174,  0.2938,\n",
      "         0.3934,  0.0088,  0.4089,  1.4416, -0.1337,  0.2456, -0.0746, -2.0485,\n",
      "         0.3700,  0.4416, -0.2060,  0.3134, -0.8629,  0.3161,  0.2115, -0.0644,\n",
      "         0.4713,  1.2420,  0.4874,  0.4133,  0.1439, -2.3594, -0.0884,  0.9521,\n",
      "         0.5041, -1.7152])\n",
      "tensor([[-0.0756, -0.0340,  0.3358,  0.6007,  1.4918],\n",
      "        [-0.3603,  0.2670,  0.2639, -0.5271, -0.4247],\n",
      "        [-1.2626, -0.1973,  0.0466,  0.7138,  0.7984],\n",
      "        [-0.9028,  0.1227,  0.4770, -0.2349,  0.5676],\n",
      "        [-0.1189,  0.9912, -2.3174,  0.2938,  0.3934],\n",
      "        [ 0.0088,  0.4089,  1.4416, -0.1337,  0.2456],\n",
      "        [-0.0746, -2.0485,  0.3700,  0.4416, -0.2060],\n",
      "        [ 0.3134, -0.8629,  0.3161,  0.2115, -0.0644],\n",
      "        [ 0.4713,  1.2420,  0.4874,  0.4133,  0.1439],\n",
      "        [-2.3594, -0.0884,  0.9521,  0.5041, -1.7152]])\n"
     ]
    }
   ],
   "source": [
    "# Assume x is your [1000, 50] tensor\n",
    "x = torch.randn(1000, 50)\n",
    "print(x[0])\n",
    "# Reshape the tensor to [1000, 10, 5]\n",
    "x_reshaped = x.view(1000, 10, 5)\n",
    "print(x_reshaped[0])"
   ]
  },
  {
   "cell_type": "code",
   "execution_count": 46,
   "id": "7850a9f0-26c2-4190-98cc-a5cc09c7452b",
   "metadata": {
    "tags": []
   },
   "outputs": [
    {
     "data": {
      "text/plain": [
       "tensor([1.4918, 0.2670, 0.7984, 0.5676, 0.9912, 1.4416, 0.4416, 0.3161, 1.2420,\n",
       "        0.9521])"
      ]
     },
     "execution_count": 46,
     "metadata": {},
     "output_type": "execute_result"
    }
   ],
   "source": [
    "# Use torch.max on the last dimension\n",
    "output, _ = torch.max(x_reshaped, dim=2)\n",
    "output[0]"
   ]
  },
  {
   "cell_type": "code",
   "execution_count": 47,
   "id": "3b7ac3d1-fb3d-4325-bce8-68af39ca94ec",
   "metadata": {
    "tags": []
   },
   "outputs": [],
   "source": [
    "def multiply_tensors_with_sign(sorted_activations, weights):\n",
    "    mask = sorted_activations < 0\n",
    "    weights[mask] = 2 - weights[mask]\n",
    "    return sorted_activations * weights"
   ]
  },
  {
   "cell_type": "code",
   "execution_count": 48,
   "id": "a840b38c-c508-49d1-9b76-9fd72a02577c",
   "metadata": {
    "tags": []
   },
   "outputs": [],
   "source": [
    "def value_shift(sorted_activations):\n",
    "    min_values = torch.min(sorted_activations, dim=1).values\n",
    "\n",
    "    # Reshape the min_values tensor to match the shape of 'a' for broadcasting\n",
    "    min_values_reshaped = min_values.view(-1, 1)\n",
    "    min_values_reshaped_abs = torch.abs(min_values_reshaped)\n",
    "\n",
    "    # Add the minimum values to the corresponding rows of the original tensor\n",
    "    return torch.add(sorted_activations, min_values_reshaped_abs)"
   ]
  },
  {
   "cell_type": "code",
   "execution_count": 49,
   "id": "897ac867-093f-4c58-acd9-d81b1e84960e",
   "metadata": {
    "tags": []
   },
   "outputs": [
    {
     "data": {
      "text/plain": [
       "tensor([[-1.4965, -1.2885, -0.9408, -0.9227, -0.5991],\n",
       "        [-1.2427,  0.4799, -0.8002,  1.4641,  0.2359],\n",
       "        [ 0.9744,  1.3617,  0.0708, -0.2328, -1.2188],\n",
       "        [-0.0824,  0.1379,  0.7257, -1.2530,  1.0863],\n",
       "        [ 0.8190,  0.4117,  0.4991,  0.0171,  1.8680]])"
      ]
     },
     "execution_count": 49,
     "metadata": {},
     "output_type": "execute_result"
    }
   ],
   "source": [
    "randy = torch.randn(5,5)\n",
    "randy"
   ]
  },
  {
   "cell_type": "code",
   "execution_count": 50,
   "id": "24710ec3-133e-4b14-85f1-098491b1a307",
   "metadata": {
    "tags": []
   },
   "outputs": [
    {
     "data": {
      "text/plain": [
       "tensor([[0.8949, 0.5619, 0.5099, 0.4853, 0.5544],\n",
       "        [0.5174, 0.4905, 0.7997, 0.7572, 0.3770],\n",
       "        [0.0502, 0.6436, 0.8028, 0.6691, 0.6133],\n",
       "        [0.5260, 0.8083, 0.0380, 0.0293, 0.8745],\n",
       "        [0.9453, 0.6798, 0.3470, 0.6468, 0.5551]])"
      ]
     },
     "execution_count": 50,
     "metadata": {},
     "output_type": "execute_result"
    }
   ],
   "source": [
    "rando = torch.rand(5, 5)\n",
    "rando"
   ]
  },
  {
   "cell_type": "code",
   "execution_count": 51,
   "id": "aecb415d-338a-4095-a4e3-ad89ead9b88c",
   "metadata": {
    "tags": []
   },
   "outputs": [],
   "source": [
    "val = value_shift(randy) * rando"
   ]
  },
  {
   "cell_type": "code",
   "execution_count": 52,
   "id": "6ddc50a3-c07a-409a-9f26-2fd93abcfb2e",
   "metadata": {
    "tags": []
   },
   "outputs": [],
   "source": [
    "abs_value = multiply_tensors_with_sign(randy, rando)"
   ]
  },
  {
   "cell_type": "code",
   "execution_count": 53,
   "id": "55e1df5d-961d-43d3-9b9e-ec44d11493ae",
   "metadata": {
    "tags": []
   },
   "outputs": [
    {
     "data": {
      "text/plain": [
       "(tensor([[-1.6537, -1.8530, -1.4020, -1.3975, -0.8661],\n",
       "         [-1.8425,  0.2354, -0.9605,  1.1085,  0.0889],\n",
       "         [ 0.0489,  0.8764,  0.0568, -0.3098, -1.6901],\n",
       "         [-0.1215,  0.1115,  0.0275, -2.4694,  0.9500],\n",
       "         [ 0.7742,  0.2799,  0.1732,  0.0111,  1.0369]]),\n",
       " tensor([[0.1516, 0.1242, 0.1950, 0.1959, 0.3333],\n",
       "         [0.0267, 0.2134, 0.0645, 0.5110, 0.1843],\n",
       "         [0.1934, 0.4425, 0.1950, 0.1351, 0.0340],\n",
       "         [0.1553, 0.1961, 0.1803, 0.0148, 0.4535],\n",
       "         [0.2548, 0.1554, 0.1397, 0.1188, 0.3313]]),\n",
       " torch.return_types.max(\n",
       " values=tensor([0.3333, 0.5110, 0.4425, 0.4535, 0.3313]),\n",
       " indices=tensor([4, 3, 1, 4, 4])))"
      ]
     },
     "execution_count": 53,
     "metadata": {},
     "output_type": "execute_result"
    }
   ],
   "source": [
    "softmax_abs = torch.nn.functional.softmax(abs_value, dim=1)\n",
    "abs_value, softmax_abs, torch.max(softmax_abs, dim=1)"
   ]
  },
  {
   "cell_type": "code",
   "execution_count": 54,
   "id": "412368fd-370c-4c8e-80d7-b06bfb3ba139",
   "metadata": {
    "tags": []
   },
   "outputs": [
    {
     "data": {
      "text/plain": [
       "(tensor([[0.0000, 0.1169, 0.2833, 0.2785, 0.4975],\n",
       "         [0.0000, 0.8449, 0.3539, 2.0495, 0.5575],\n",
       "         [0.1100, 1.6609, 1.0354, 0.6597, 0.0000],\n",
       "         [0.6157, 1.1242, 0.0751, 0.0000, 2.0458],\n",
       "         [0.7904, 0.2915, 0.1791, 0.0221, 1.0464]]),\n",
       " tensor([[0.1558, 0.1751, 0.2069, 0.2059, 0.2563],\n",
       "         [0.0701, 0.1632, 0.0999, 0.5444, 0.1224],\n",
       "         [0.0920, 0.4339, 0.2321, 0.1595, 0.0824],\n",
       "         [0.1256, 0.2088, 0.0731, 0.0678, 0.5247],\n",
       "         [0.2561, 0.1555, 0.1390, 0.1188, 0.3308]]),\n",
       " torch.return_types.max(\n",
       " values=tensor([0.2563, 0.5444, 0.4339, 0.5247, 0.3308]),\n",
       " indices=tensor([4, 3, 1, 4, 4])))"
      ]
     },
     "execution_count": 54,
     "metadata": {},
     "output_type": "execute_result"
    }
   ],
   "source": [
    "softmax_val = torch.nn.functional.softmax(val, dim=1)\n",
    "val, softmax_val, torch.max(softmax_val, dim=1)"
   ]
  },
  {
   "cell_type": "code",
   "execution_count": 55,
   "id": "6c16e71e-2d58-421c-9d6f-2bc57a27d8e7",
   "metadata": {
    "tags": []
   },
   "outputs": [
    {
     "data": {
      "text/plain": [
       "tensor([1.1761, 3.8057, 3.4660, 3.8608, 2.3295])"
      ]
     },
     "execution_count": 55,
     "metadata": {},
     "output_type": "execute_result"
    }
   ],
   "source": [
    "total = torch.sum(val, dim=1)\n",
    "total"
   ]
  },
  {
   "cell_type": "code",
   "execution_count": 56,
   "id": "1a769a66-87dc-40ed-a873-d43a950d7d24",
   "metadata": {
    "tags": []
   },
   "outputs": [
    {
     "data": {
      "text/plain": [
       "array([[ 0,  1,  2,  3,  4],\n",
       "       [ 5,  6,  7,  8,  9],\n",
       "       [10, 11, 12, 13, 14],\n",
       "       [15, 16, 17, 18, 19],\n",
       "       [20, 21, 22, 23, 24]])"
      ]
     },
     "execution_count": 56,
     "metadata": {},
     "output_type": "execute_result"
    }
   ],
   "source": [
    "matrix = np.arange(25).reshape((5,5))\n",
    "matrix"
   ]
  },
  {
   "cell_type": "code",
   "execution_count": 57,
   "id": "57db7d63-e919-48c0-ac30-e8a5b1319baf",
   "metadata": {
    "tags": []
   },
   "outputs": [
    {
     "data": {
      "text/plain": [
       "array([ 4,  9, 14, 19, 24])"
      ]
     },
     "execution_count": 57,
     "metadata": {},
     "output_type": "execute_result"
    }
   ],
   "source": [
    "maxi = np.max(matrix, axis=1)\n",
    "maxi"
   ]
  },
  {
   "cell_type": "code",
   "execution_count": 58,
   "id": "99b4f85e-b80e-4dda-8787-dd726b81f07b",
   "metadata": {
    "tags": []
   },
   "outputs": [
    {
     "data": {
      "text/plain": [
       "70"
      ]
     },
     "execution_count": 58,
     "metadata": {},
     "output_type": "execute_result"
    }
   ],
   "source": [
    "summe = np.sum(maxi)\n",
    "summe"
   ]
  },
  {
   "cell_type": "code",
   "execution_count": 59,
   "id": "4b445f33-055e-40d8-a5fb-bd97b96df74d",
   "metadata": {
    "tags": []
   },
   "outputs": [
    {
     "data": {
      "text/plain": [
       "(array([False,  True,  True,  True,  True]),\n",
       " array([1, 2, 3, 4]),\n",
       " array([[ 5,  6,  7,  8,  9],\n",
       "        [10, 11, 12, 13, 14],\n",
       "        [15, 16, 17, 18, 19],\n",
       "        [20, 21, 22, 23, 24]]))"
      ]
     },
     "execution_count": 59,
     "metadata": {},
     "output_type": "execute_result"
    }
   ],
   "source": [
    "gt = np.arange(matrix.shape[0])\n",
    "mask = gt > 0\n",
    "mask, gt[mask], matrix[mask]"
   ]
  },
  {
   "cell_type": "code",
   "execution_count": 60,
   "id": "013c38c0-35ee-485a-8950-1a182d99ca64",
   "metadata": {
    "tags": []
   },
   "outputs": [
    {
     "name": "stdout",
     "output_type": "stream",
     "text": [
      "[ 6 12 18 24]\n"
     ]
    }
   ],
   "source": [
    "# Retrieve the values\n",
    "values = matrix[mask][np.arange(matrix[mask].shape[0]), gt[mask]]\n",
    "\n",
    "print(values)"
   ]
  }
 ],
 "metadata": {
  "kernelspec": {
   "display_name": "openset-imagenet-comparison",
   "language": "python",
   "name": "openset-imagenet-comparison"
  },
  "language_info": {
   "codemirror_mode": {
    "name": "ipython",
    "version": 3
   },
   "file_extension": ".py",
   "mimetype": "text/x-python",
   "name": "python",
   "nbconvert_exporter": "python",
   "pygments_lexer": "ipython3",
   "version": "3.8.17"
  }
 },
 "nbformat": 4,
 "nbformat_minor": 5
}
