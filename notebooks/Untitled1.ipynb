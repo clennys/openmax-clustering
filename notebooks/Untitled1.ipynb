{
 "cells": [
  {
   "cell_type": "code",
   "execution_count": 1,
   "id": "598a376c-9c81-42a7-8837-6140f8043a42",
   "metadata": {
    "tags": []
   },
   "outputs": [],
   "source": [
    "import pandas as pd"
   ]
  },
  {
   "cell_type": "code",
   "execution_count": 6,
   "id": "6c47f032-ce09-43dd-af71-744bd0007f68",
   "metadata": {
    "tags": []
   },
   "outputs": [
    {
     "data": {
      "text/html": [
       "<div>\n",
       "<style scoped>\n",
       "    .dataframe tbody tr th:only-of-type {\n",
       "        vertical-align: middle;\n",
       "    }\n",
       "\n",
       "    .dataframe tbody tr th {\n",
       "        vertical-align: top;\n",
       "    }\n",
       "\n",
       "    .dataframe thead th {\n",
       "        text-align: right;\n",
       "    }\n",
       "</style>\n",
       "<table border=\"1\" class=\"dataframe\">\n",
       "  <thead>\n",
       "    <tr style=\"text-align: right;\">\n",
       "      <th></th>\n",
       "      <th>column</th>\n",
       "      <th>tailsize</th>\n",
       "      <th>dist_mult</th>\n",
       "      <th>input_cluster</th>\n",
       "      <th>feature_cluster</th>\n",
       "    </tr>\n",
       "  </thead>\n",
       "  <tbody>\n",
       "    <tr>\n",
       "      <th>0</th>\n",
       "      <td>4330--0.5-1-4</td>\n",
       "      <td>4330</td>\n",
       "      <td>-0.5</td>\n",
       "      <td>1</td>\n",
       "      <td>4</td>\n",
       "    </tr>\n",
       "    <tr>\n",
       "      <th>1</th>\n",
       "      <td>5321-1.3-2-5</td>\n",
       "      <td>5321</td>\n",
       "      <td>1.3</td>\n",
       "      <td>2</td>\n",
       "      <td>5</td>\n",
       "    </tr>\n",
       "    <tr>\n",
       "      <th>2</th>\n",
       "      <td>6312--0.7-3-6</td>\n",
       "      <td>6312</td>\n",
       "      <td>-0.7</td>\n",
       "      <td>3</td>\n",
       "      <td>6</td>\n",
       "    </tr>\n",
       "  </tbody>\n",
       "</table>\n",
       "</div>"
      ],
      "text/plain": [
       "          column tailsize dist_mult input_cluster feature_cluster\n",
       "0  4330--0.5-1-4     4330      -0.5             1               4\n",
       "1   5321-1.3-2-5     5321       1.3             2               5\n",
       "2  6312--0.7-3-6     6312      -0.7             3               6"
      ]
     },
     "execution_count": 6,
     "metadata": {},
     "output_type": "execute_result"
    }
   ],
   "source": [
    "df = pd.DataFrame({'column': ['4330--0.5-1-4', '5321-1.3-2-5', '6312--0.7-3-6']})\n",
    "df[['tailsize', 'dist_mult', 'input_cluster', 'feature_cluster']] = df['column'].str.extract(r'(\\d+)-(-?\\d+.\\d+)-(\\d+)-(\\d+)')\n",
    "df"
   ]
  }
 ],
 "metadata": {
  "kernelspec": {
   "display_name": "openset-imagenet-comparison",
   "language": "python",
   "name": "openset-imagenet-comparison"
  },
  "language_info": {
   "codemirror_mode": {
    "name": "ipython",
    "version": 3
   },
   "file_extension": ".py",
   "mimetype": "text/x-python",
   "name": "python",
   "nbconvert_exporter": "python",
   "pygments_lexer": "ipython3",
   "version": "3.8.17"
  }
 },
 "nbformat": 4,
 "nbformat_minor": 5
}
