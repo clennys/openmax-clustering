{
 "cells": [
  {
   "cell_type": "markdown",
   "id": "3657d408-17ea-45dc-b6d4-b3bbe9a54ba6",
   "metadata": {},
   "source": [
    "# Imports"
   ]
  },
  {
   "cell_type": "code",
   "execution_count": 44,
   "id": "571e19d8-3390-4f9d-8ba8-45b878e26311",
   "metadata": {
    "tags": []
   },
   "outputs": [],
   "source": [
    "import torchvision.models as models\n",
    "import torch\n",
    "from torch import Tensor\n",
    "import torchvision\n",
    "import torchvision.transforms as transforms\n",
    "from torch.utils.tensorboard import SummaryWriter\n",
    "from torch.nn import functional as F\n",
    "import torch.nn as nn\n",
    "import torch.optim as optim\n",
    "import os\n",
    "from tqdm import tqdm\n",
    "import numpy as np\n",
    "from vast.opensetAlgos.openmax import fit_high\n",
    "from sklearn.cluster import DBSCAN\n",
    "from sklearn.manifold import TSNE\n",
    "import seaborn as sns\n",
    "from sklearn.cluster import AgglomerativeClustering\n",
    "import hdbscan as hdb\n",
    "import matplotlib.pyplot as plt\n"
   ]
  },
  {
   "cell_type": "markdown",
   "id": "b739228d-77ec-47e4-847a-7c757fb13ac1",
   "metadata": {},
   "source": [
    "# Helper Functions"
   ]
  },
  {
   "cell_type": "code",
   "execution_count": 2,
   "id": "0d62d0a5-15f6-42c4-8dd2-4c92184c03f9",
   "metadata": {
    "tags": []
   },
   "outputs": [],
   "source": [
    "def euclidean_pairwisedistance(x: Tensor, y: Tensor) -> Tensor:\n",
    "    \"\"\"\n",
    "    Computes batched the p-norm distance between each pair of the two collections of row vectors.\n",
    "    :param x: Tensor of size BxPxM\n",
    "    :param y: Tensor of size BxRxM\n",
    "    :returns: A Tensor of shape BxPxR\n",
    "    \"\"\"\n",
    "    return torch.cdist(x, y, p=2, compute_mode=\"donot_use_mm_for_euclid_dist\")\n",
    "\n",
    "\n",
    "def cosine_pairwisedistance(x, y):\n",
    "    x = nn.functional.normalize(x, dim=1)\n",
    "    y = nn.functional.normalize(y, dim=1)\n",
    "    similarity = torch.einsum(\"nc,ck->nk\", [x, y.T])\n",
    "    distances = 1 - similarity\n",
    "    return distances"
   ]
  },
  {
   "cell_type": "code",
   "execution_count": 3,
   "id": "d81bfdcc-caa7-44ca-bf73-aa1e1e618681",
   "metadata": {
    "tags": []
   },
   "outputs": [],
   "source": [
    "def transpose(x):\n",
    "    \"\"\"Used for correcting rotation of EMNIST Letters\"\"\"\n",
    "    return x.transpose(2, 1)"
   ]
  },
  {
   "cell_type": "code",
   "execution_count": 4,
   "id": "cfb3a8c4-43d9-404c-a772-2fd128a885f4",
   "metadata": {
    "tags": []
   },
   "outputs": [],
   "source": [
    "def multiply_tensors_with_sign(sorted_activations, weights):\n",
    "    mask = sorted_activations < 0\n",
    "    weights[mask] = 1 + (\n",
    "        1 - weights[mask]\n",
    "    )  # Change negative values to 50.0 or any other desired value\n",
    "    return sorted_activations * weights"
   ]
  },
  {
   "cell_type": "markdown",
   "id": "e0a529e5-9d7b-4bd3-87a7-bb5bc1f3967f",
   "metadata": {},
   "source": [
    "# Openmax"
   ]
  },
  {
   "cell_type": "markdown",
   "id": "7bf5f4d8-5424-4ac9-b3b7-315715b7b09f",
   "metadata": {},
   "source": [
    "## Training"
   ]
  },
  {
   "cell_type": "code",
   "execution_count": 5,
   "id": "d03b158f-4a56-4f35-91a5-baa1a74b9198",
   "metadata": {
    "tags": []
   },
   "outputs": [],
   "source": [
    "def openmax_training(\n",
    "    features_labels_all_classes_dict: dict,\n",
    "    distance_multiplier: int = 2,\n",
    "    tailsize: int = 100,\n",
    "):\n",
    "    # Tuple[dict[str, weibull], dict[str, Tensor]]:\n",
    "    \"\"\"\n",
    "    :param pos_classes_to_process: List of class names to be processed by this function in the current process.\n",
    "    :param features_all_classes: features of all classes\n",
    "    \"\"\"\n",
    "\n",
    "    model_ = {}\n",
    "    for label in features_labels_all_classes_dict.keys():\n",
    "        model_per_label = {}\n",
    "        features: Tensor = features_labels_all_classes_dict[label]\n",
    "        mean_av_tensor = torch.mean(features, dim=0)\n",
    "\n",
    "        model_per_label[\"mav\"] = mean_av_tensor[None, :]\n",
    "\n",
    "        distances: Tensor = cosine_pairwisedistance(\n",
    "            features, mean_av_tensor[None, :]\n",
    "        )\n",
    "        model_per_label[\"weibull\"] = fit_high(\n",
    "            distances.T, distance_multiplier, tailsize, translateAmount=1\n",
    "        )\n",
    "        model_[label] = model_per_label\n",
    "\n",
    "    return model_"
   ]
  },
  {
   "cell_type": "markdown",
   "id": "ebaf12b0-3d76-4383-9be0-93b62b453c8c",
   "metadata": {},
   "source": [
    "## Inference"
   ]
  },
  {
   "cell_type": "code",
   "execution_count": 6,
   "id": "945b0fa4-09cf-4849-a4a0-3268508871fc",
   "metadata": {
    "tags": []
   },
   "outputs": [],
   "source": [
    "def openmax_inference(features_all_classes: dict, model_) -> dict:  # dict[str, Tensor],\n",
    "    # features: Tensor = torch.cat(list(features_all_classes.values()))\n",
    "    props_dict: dict = {}\n",
    "    for class_label in features_all_classes:\n",
    "        features = features_all_classes[class_label]\n",
    "        probs = []\n",
    "        for model_label in sorted(model_.keys()):\n",
    "            # mav: Tensor = torch.stack(list(mean_av_dict.values()))\n",
    "            mav: Tensor = model_[model_label][\"mav\"]\n",
    "            distances: Tensor = cosine_pairwisedistance(features, mav)\n",
    "            probs.append(\n",
    "                model_[model_label][\"weibull\"].wscore(distances, isReversed=True)\n",
    "            )  # TODO: Reversed? 1 - weibull.cdf\n",
    "        probs = torch.cat(probs, dim=1)\n",
    "        props_dict[class_label] = probs\n",
    "\n",
    "    return props_dict"
   ]
  },
  {
   "cell_type": "markdown",
   "id": "0802514b-d1ed-415a-8172-956e306b032c",
   "metadata": {},
   "source": [
    "## Alpha"
   ]
  },
  {
   "cell_type": "code",
   "execution_count": 7,
   "id": "baa8c5a6-cbe8-493f-b4cb-e86e03e76e91",
   "metadata": {
    "tags": []
   },
   "outputs": [],
   "source": [
    "def openmax_alpha(\n",
    "    evt_probs: Tensor, activations: Tensor, alpha: int, negative_fix=None, debug=False, ignore_unknown_class=False\n",
    "):\n",
    "    # Convert to Unknowness\n",
    "    per_class_unknownness_prob = 1 - evt_probs\n",
    "\n",
    "    # Line 1: Sort for highest activation value\n",
    "    sorted_activations, indices = torch.sort(activations, descending=True, dim=1)\n",
    "    if debug:\n",
    "        print(activations.shape)\n",
    "        print(sorted_activations.shape)\n",
    "        print(indices.shape)\n",
    "\n",
    "    # Create weights of ones in correct shape\n",
    "    weights = torch.ones(activations.shape[0], activations.shape[1])\n",
    "    if debug:\n",
    "        print(\"LINE [1]: weights\", weights)\n",
    "\n",
    "    # Line 2-4\n",
    "    # Creating a sequence of integers from 1 to alpha (inclusive) with a stepsize 1\n",
    "    # Sequence is assigned to the first alpha columns of all rows in weights\n",
    "    weights[:, :alpha] = torch.arange(1, alpha + 1, step=1)\n",
    "    if debug:\n",
    "        print(\"LINE [2-4]a: weights\", weights)\n",
    "\n",
    "    # Subtracts the current value in these position alpha and then divides the result by alpha (elementwise)\n",
    "    weights[:, :alpha] = (alpha - weights[:, :alpha]) / alpha\n",
    "    if debug:\n",
    "        print(\"LINE [2-4]b: weights\", weights)\n",
    "\n",
    "    weights[:, :alpha] = 1 - weights[:, :alpha] * torch.gather(\n",
    "        per_class_unknownness_prob, 1, indices[:, :alpha]\n",
    "    )\n",
    "    if debug:\n",
    "        print(\"LINE [2-4]c: weights\", weights)\n",
    "\n",
    "    if negative_fix == \"VALUE_SHIFT\":\n",
    "        assert not torch.any(\n",
    "            torch.lt(weights, 0)\n",
    "        ), \"The tensor contains a negative value\"\n",
    "        # Get the minimum values for each row\n",
    "        min_values = torch.min(sorted_activations, dim=1).values\n",
    "\n",
    "        # Reshape the min_values tensor to match the shape of 'a' for broadcasting\n",
    "        min_values_reshaped = min_values.view(-1, 1)\n",
    "        min_values_reshaped_abs = torch.abs(min_values_reshaped)\n",
    "\n",
    "        # Add the minimum values to the corresponding rows of the original tensor\n",
    "        sorted_activations = torch.add(sorted_activations, min_values_reshaped_abs)\n",
    " \n",
    "        if debug:\n",
    "            print(\"LINE [2-4]d VALUE_SHIFT:\", sorted_activations)\n",
    "\n",
    "    # Line 5\n",
    "    if negative_fix == \"ABS_REV_ACTV\":\n",
    "        revisted_activations = multiply_tensors_with_sign(sorted_activations, weights)\n",
    "        if debug:\n",
    "            print(\"LINE [5] ABS_REV_ACTV:\", revisted_activations)\n",
    "    else:\n",
    "        revisted_activations = sorted_activations * weights\n",
    "        if debug:\n",
    "            print(\"LINE [5]: \", revisted_activations)\n",
    "\n",
    "    # Line 6\n",
    "    unknowness_class_prob = torch.sum(sorted_activations * (1 - weights), dim=1)\n",
    "    revisted_activations = torch.scatter(\n",
    "        torch.ones(revisted_activations.shape), 1, indices, revisted_activations\n",
    "    )\n",
    "    if debug:\n",
    "        print(\"LINE [6]a: unknowness class p\", unknowness_class_prob)\n",
    "        print(\"LINE [6]b: revisted_act\", revisted_activations)\n",
    "\n",
    "    probability_vector = torch.cat(\n",
    "        [unknowness_class_prob[:, None], revisted_activations], dim=1\n",
    "    )\n",
    "    if debug:\n",
    "        print(\"LINE [6]c: prob vec\", probability_vector)\n",
    "\n",
    "    # Line 7\n",
    "    probability_vector = torch.nn.functional.softmax(probability_vector, dim=1)\n",
    "    if debug:\n",
    "        print(\"LINE [7]: softmax prob vec\", probability_vector)\n",
    "        \n",
    "    if ignore_unknown_class:\n",
    "        probs_kkc = probability_vector[:, 1:].clone().detach()\n",
    "        assert probs_kkc.shape == activations.shape\n",
    "        return probs_kkc\n",
    "\n",
    "    # Line 8\n",
    "    prediction_score, predicted_class = torch.max(probability_vector, dim=1)\n",
    "    if debug:\n",
    "        print(\"LINE [8]a: prediction_score\", prediction_score)\n",
    "    if debug:\n",
    "        print(\"LINE [8]b: predicted_class\", predicted_class)\n",
    "\n",
    "    # Line 9\n",
    "    prediction_score[predicted_class == 0] = -1.0\n",
    "    predicted_class = predicted_class - 1\n",
    "\n",
    "    return predicted_class, prediction_score"
   ]
  },
  {
   "cell_type": "markdown",
   "id": "1cebf258-759c-4c18-aa3f-1e2f839e96c2",
   "metadata": {},
   "source": [
    "# Data\n",
    "- Source: [EOS-Training](https://gitlab.uzh.ch/manuel.guenther/eos-example/-/blob/EMNIST-digits/EOS_Training.py?ref_type=heads#L44)"
   ]
  },
  {
   "cell_type": "markdown",
   "id": "49ff7e91-b1ff-42e7-b170-8eeee5afdae2",
   "metadata": {},
   "source": [
    "## Dataset"
   ]
  },
  {
   "cell_type": "code",
   "execution_count": 9,
   "id": "298434e3-259c-4670-8c59-ff5a36892770",
   "metadata": {
    "tags": []
   },
   "outputs": [],
   "source": [
    "class Cluster_Dataset(torch.utils.data.dataset.Dataset):\n",
    "    def __init__(self, data, targets, dataset_root,\n",
    "        which_set=\"train\",):\n",
    "        self.images = torchvision.datasets.EMNIST(\n",
    "            root=dataset_root,\n",
    "            train=which_set == \"train\",\n",
    "            download=True,\n",
    "            split=\"mnist\",\n",
    "            transform=transforms.Compose([transforms.ToTensor(), transpose]),\n",
    "        )\n",
    "        print(self.images.data.shape, torch.tensor(data).shape)\n",
    "        self.images.data = torch.tensor(data)\n",
    "        self.images.targets = targets\n",
    "        \n",
    "    def __getitem__(self, idx):\n",
    "        return self.images[idx]\n",
    "    \n",
    "    def __len__(self):\n",
    "        return len(self.images)"
   ]
  },
  {
   "cell_type": "code",
   "execution_count": 45,
   "id": "ca78fed0-0099-489d-aa50-f6a57af10848",
   "metadata": {
    "tags": []
   },
   "outputs": [],
   "source": [
    "class Dataset(torch.utils.data.dataset.Dataset):\n",
    "    \"\"\"A split dataset for our experiments. It uses MNIST as known samples and EMNIST letters as unknowns.\n",
    "    Particularly, the 11 letters will be used as negatives (for training and validation), and the 11 letters will serve as unknowns (for testing only) -- we removed letters `g`, `l`, `i` and `o` due to large overlap to the digits.\n",
    "    The MNIST test set is used both in the validation and test split of this dataset.\n",
    "\n",
    "    For the test set, you should consider to leave the parameters `include_unknown` and `has_garbage_class` at their respective defaults -- this might make things easier.\n",
    "\n",
    "    Parameters:\n",
    "\n",
    "    dataset_root: Where to find/download the data to.\n",
    "\n",
    "    which_set: Which split of the dataset to use; can be 'train' , 'test' or 'validation' (anything besides 'train' and 'test' will be the validation set)\n",
    "\n",
    "    include_unknown: Include unknown samples at all (might not be required in some cases, such as training with plain softmax)\n",
    "\n",
    "    has_garbage_class: Set this to True when training softmax with background class. This way, unknown samples will get class label 10. If False (the default), unknown samples will get label -1.\n",
    "    \"\"\"\n",
    "\n",
    "    def __init__(\n",
    "        self,\n",
    "        dataset_root,\n",
    "        which_set=\"train\",\n",
    "        include_unknown=True,\n",
    "        has_garbage_class=False,\n",
    "        use_clusters=False,\n",
    "        num_clusters_per_class=1,\n",
    "    ):\n",
    "        self.mnist = torchvision.datasets.EMNIST(\n",
    "            root=dataset_root,\n",
    "            train=which_set == \"train\",\n",
    "            download=True,\n",
    "            split=\"mnist\",\n",
    "            transform=transforms.Compose([transforms.ToTensor(), transpose]),\n",
    "        )\n",
    "        self.letters = torchvision.datasets.EMNIST(\n",
    "            root=dataset_root,\n",
    "            train=which_set == \"train\",\n",
    "            download=True,\n",
    "            split=\"letters\",\n",
    "            transform=transforms.Compose([transforms.ToTensor(), transpose]),\n",
    "        )\n",
    "        self.which_set = which_set\n",
    "        targets = (\n",
    "            list()\n",
    "            if not include_unknown\n",
    "            else [1, 2, 3, 4, 5, 6, 8, 10, 11, 13, 14]\n",
    "            if which_set != \"test\"\n",
    "            else [16, 17, 18, 19, 20, 21, 22, 23, 24, 25, 26]\n",
    "        )\n",
    "        self.letter_indexes = [\n",
    "            i for i, t in enumerate(self.letters.targets) if t in targets\n",
    "        ]\n",
    "        self.has_garbage_class = has_garbage_class\n",
    "        self.use_clusters = use_clusters\n",
    "        \n",
    "        if use_clusters:\n",
    "            self.mnist = clustering(self.mnist, num_clusters_per_class)\n",
    "        \n",
    "        \n",
    "\n",
    "    def __getitem__(self, index):\n",
    "        if index < len(self.mnist):\n",
    "            return self.mnist[index]\n",
    "        else:\n",
    "            return (\n",
    "                self.letters[self.letter_indexes[index - len(self.mnist)]][0],\n",
    "                10 if self.has_garbage_class else -1,\n",
    "            )\n",
    "\n",
    "    def __len__(self):\n",
    "        return len(self.mnist) + len(self.letter_indexes)"
   ]
  },
  {
   "cell_type": "markdown",
   "id": "20060ebb-cacb-432a-a947-430e21582f80",
   "metadata": {},
   "source": [
    "## Initialization"
   ]
  },
  {
   "cell_type": "code",
   "execution_count": 53,
   "id": "a3b56035-262c-4785-81e8-d797b482aacb",
   "metadata": {
    "tags": []
   },
   "outputs": [
    {
     "name": "stdout",
     "output_type": "stream",
     "text": [
      "Size training dataset 60000 1875\n",
      "Size validation dataset 10000 313\n",
      "Size test dataset 18800\n",
      "Numbers: ['0', '1', '2', '3', '4', '5', '6', '7', '8', '9']\n",
      "Letters: ['N/A', 'a', 'b', 'c', 'd', 'e', 'f', 'g', 'h', 'i', 'j', 'k', 'l', 'm', 'n', 'o', 'p', 'q', 'r', 's', 't', 'u', 'v', 'w', 'x', 'y', 'z']\n",
      "[1, 8, 6, 7, 8, 0, 8, 1]\n",
      "[1, 8, 6, 7, 8, 0, 8, 1]\n",
      "Number Label: 0\n"
     ]
    },
    {
     "data": {
      "text/plain": [
       "<matplotlib.image.AxesImage at 0x7ffeb57f1ee0>"
      ]
     },
     "execution_count": 53,
     "metadata": {},
     "output_type": "execute_result"
    },
    {
     "data": {
      "image/png": "[encoded data removed]",
      "text/plain": [
       "<Figure size 640x480 with 1 Axes>"
      ]
     },
     "metadata": {},
     "output_type": "display_data"
    }
   ],
   "source": [
    "BATCH_SIZE = 32\n",
    "\n",
    "training_data = Dataset(\n",
    "    dataset_root=\"../downloads/\",\n",
    "    which_set=\"train\",\n",
    "    include_unknown=False,\n",
    "    has_garbage_class=False,\n",
    ")\n",
    "validation_data = Dataset(\n",
    "    dataset_root=\"../downloads/\",\n",
    "    which_set=\"val\",\n",
    "    include_unknown=False,\n",
    "    has_garbage_class=False,\n",
    ")\n",
    "test_data = Dataset(\n",
    "    dataset_root=\"../downloads/\",\n",
    "    which_set=\"test\",\n",
    "    include_unknown=True,\n",
    "    has_garbage_class=False,\n",
    ")\n",
    "\n",
    "train_data_loader = torch.utils.data.DataLoader(\n",
    "    training_data, batch_size=BATCH_SIZE, shuffle=True, num_workers=5, pin_memory=True\n",
    ")\n",
    "val_data_loader = torch.utils.data.DataLoader(\n",
    "    validation_data, batch_size=BATCH_SIZE, pin_memory=True\n",
    ")\n",
    "\n",
    "print(\"Size training dataset\", len(training_data), len(train_data_loader))\n",
    "print(\"Size validation dataset\", len(validation_data), len(val_data_loader))\n",
    "print(\"Size test dataset\", len(test_data))\n",
    "print(\"Numbers:\", training_data.mnist.classes)\n",
    "print(\n",
    "    \"Letters:\",\n",
    "    test_data.letters.classes,\n",
    ")\n",
    "\n",
    "v = [ x for x in validation_data][:8]\n",
    "\n",
    "t = [ x for x in test_data][:8]\n",
    "\n",
    "print(v_targets[:8])\n",
    "print(t_targets[:8])\n",
    "\n",
    "\n",
    "\n",
    "c = v + t\n",
    "idx = 5\n",
    "imagev, label_v = v[idx]\n",
    "imaget, label_t = t[idx]\n",
    "label -= 1\n",
    "print(f\"Number Label: {label_v}\")\n",
    "plt.imshow(imagev[0], cmap=\"gray\")\n"
   ]
  },
  {
   "cell_type": "code",
   "execution_count": 54,
   "id": "9d0b0d4b-3801-433c-9d26-88254594ae46",
   "metadata": {
    "tags": []
   },
   "outputs": [
    {
     "name": "stdout",
     "output_type": "stream",
     "text": [
      "Number Label: 0\n"
     ]
    },
    {
     "data": {
      "text/plain": [
       "<matplotlib.image.AxesImage at 0x7ffeb5b58e20>"
      ]
     },
     "execution_count": 54,
     "metadata": {},
     "output_type": "execute_result"
    },
    {
     "data": {
      "image/png": "[encoded data removed]",
      "text/plain": [
       "<Figure size 640x480 with 1 Axes>"
      ]
     },
     "metadata": {},
     "output_type": "display_data"
    }
   ],
   "source": [
    "print(f\"Number Label: {label_t}\")\n",
    "plt.imshow(imaget[0], cmap=\"gray\")"
   ]
  },
  {
   "cell_type": "markdown",
   "id": "4c900497-0b0c-4381-87d2-3ec3f27258d0",
   "metadata": {},
   "source": [
    "### Vis Numbers"
   ]
  },
  {
   "cell_type": "code",
   "execution_count": 12,
   "id": "d1a0f8ed-b915-4af6-a7b8-237ea08f0570",
   "metadata": {
    "tags": []
   },
   "outputs": [
    {
     "name": "stdout",
     "output_type": "stream",
     "text": [
      "Number Label: 6\n"
     ]
    },
    {
     "data": {
      "image/png": "[encoded data removed]",
      "text/plain": [
       "<Figure size 640x480 with 1 Axes>"
      ]
     },
     "metadata": {},
     "output_type": "display_data"
    }
   ],
   "source": [
    "idx = np.random.randint(0, len(validation_data.mnist))\n",
    "image, label = validation_data[idx]\n",
    "label -= 1\n",
    "plt.imshow(image[0], cmap=\"gray\")\n",
    "print(f\"Number Label: {validation_data[idx][1]}\")"
   ]
  },
  {
   "cell_type": "markdown",
   "id": "a760f412-fe72-407c-a883-93364d1a043d",
   "metadata": {},
   "source": [
    "### Vis Letters"
   ]
  },
  {
   "cell_type": "code",
   "execution_count": 13,
   "id": "df946e57-b77f-4063-a68d-db9201c94b2b",
   "metadata": {
    "tags": []
   },
   "outputs": [
    {
     "name": "stdout",
     "output_type": "stream",
     "text": [
      "Letter Label: z\n"
     ]
    },
    {
     "data": {
      "image/png": "[encoded data removed]",
      "text/plain": [
       "<Figure size 640x480 with 1 Axes>"
      ]
     },
     "metadata": {},
     "output_type": "display_data"
    }
   ],
   "source": [
    "idx = np.random.randint(0, len(validation_data.letters))\n",
    "image, label = validation_data.letters[idx]\n",
    "label -= 1\n",
    "plt.imshow(image[0], cmap=\"gray\")\n",
    "print(f\"Letter Label: {validation_data.letters.classes[validation_data.letters[idx][1]]}\")"
   ]
  },
  {
   "cell_type": "markdown",
   "id": "7d8042a3-9119-407f-a935-9fc1ca89c714",
   "metadata": {},
   "source": [
    "# Clustering"
   ]
  },
  {
   "cell_type": "markdown",
   "id": "c810fc59-b37d-45de-bf4b-8a054c9a3e52",
   "metadata": {},
   "source": [
    "## Clustering Algorithms"
   ]
  },
  {
   "cell_type": "code",
   "execution_count": 14,
   "id": "80e02976-5bb4-4673-8082-62e374ee02e6",
   "metadata": {
    "tags": []
   },
   "outputs": [],
   "source": [
    "def dbscan(eps_: int, min_samples_: int, clustering_data):\n",
    "    clusterer_dbscan = DBSCAN(eps=eps_, min_samples=min_samples_, metric='euclidean').fit(clustering_data)\n",
    "\n",
    "    n_clusters_ = len(set(clusterer_dbscan.labels_)) - (\n",
    "        1 if -1 in clusterer_dbscan.labels_ else 0\n",
    "    )\n",
    "    n_noise_ = list(clusterer_dbscan.labels_).count(-1)\n",
    "\n",
    "    return clusterer_dbscan, n_clusters_, n_noise_\n",
    "\n",
    "def plot_dbscan(clusterer_dbscan, data_embedded, n_clusters_, n_noise_):\n",
    "    nr_colors = len(set(clusterer_dbscan.labels_))\n",
    "    dbscan_labels = clusterer_dbscan.labels_\n",
    "    color_palette = sns.color_palette(\"Paired\", nr_colors)\n",
    "    cluster_colors = [\n",
    "        color_palette[x] if x >= 0 else (0.5, 0.5, 0.5)\n",
    "        for x in clusterer_dbscan.labels_\n",
    "    ]\n",
    "    plt.scatter(*data_embedded.T, s=20, linewidth=0, c=cluster_colors, alpha=0.25)\n",
    "\n",
    "    print(\"Estimated number of clusters: %d\" % n_clusters_)\n",
    "    print(\"Estimated number of noise points: %d\" % n_noise_)"
   ]
  },
  {
   "cell_type": "markdown",
   "id": "98c3f0a9-f3d2-45a8-af00-9ac475885055",
   "metadata": {},
   "source": [
    "### HDBSCAN"
   ]
  },
  {
   "cell_type": "code",
   "execution_count": 15,
   "id": "416439e1-ce33-4133-b36f-11c37e14d370",
   "metadata": {
    "tags": []
   },
   "outputs": [],
   "source": [
    "def hdbscan(min_cluster_size_, min_samples_, clustering_data):\n",
    "    clusterer_hdbscan = hdb.HDBSCAN(min_cluster_size=min_cluster_size_).fit(\n",
    "        clustering_data\n",
    "    )\n",
    "\n",
    "    n_clusters_ = len(set(clusterer_hdbscan.labels_)) - (\n",
    "        1 if -1 in clusterer_hdbscan.labels_ else 0\n",
    "    )\n",
    "    n_noise_ = list(clusterer_hdbscan.labels_).count(-1)\n",
    "\n",
    "    return clusterer_hdbscan, n_clusters_, n_noise_\n",
    "\n",
    "def plot_hdbscan(clusterer_hdbscan, data_embedded, n_clusters_, n_noise_):\n",
    "    nr_colors = len(set(clusterer_hdbscan.labels_))\n",
    "    color_palette = sns.color_palette(\"Paired\", nr_colors)\n",
    "    cluster_colors = [\n",
    "        color_palette[x] if x >= 0 else (0.5, 0.5, 0.5)\n",
    "        for x in clusterer_hdbscan.labels_\n",
    "    ]\n",
    "    cluster_member_colors = [\n",
    "        sns.desaturate(x, p)\n",
    "        for x, p in zip(cluster_colors, clusterer_hdbscan.probabilities_)\n",
    "    ]\n",
    "    plt.scatter(\n",
    "        *data_embedded.T, s=20, linewidth=0, c=cluster_member_colors, alpha=0.25\n",
    "    )\n",
    "\n",
    "    print(\"Estimated number of clusters: %d\" % n_clusters_)\n",
    "    print(\"Estimated number of noise points: %d\" % n_noise_)\n"
   ]
  },
  {
   "cell_type": "markdown",
   "id": "a4da9858-30c6-4771-98bb-82cb634bcb56",
   "metadata": {},
   "source": [
    "### Agglomerative  Clustering"
   ]
  },
  {
   "cell_type": "code",
   "execution_count": 16,
   "id": "508f1046-bf32-44a3-8a8f-0714c638dd9a",
   "metadata": {
    "tags": []
   },
   "outputs": [],
   "source": [
    "def agglo_clustering(n_clusters_, linkage_, metric_, clustering_data):\n",
    "    clusterer_agglo = AgglomerativeClustering(\n",
    "        n_clusters=n_clusters_, linkage=linkage_, metric=metric_\n",
    "    )\n",
    "    clusterer_agglo.fit_predict(clustering_data)\n",
    "    return clusterer_agglo\n",
    "\n",
    "\n",
    "def plot_agglo(clusterer_agglo, data_embedded):\n",
    "    nr_colors = len(set(clusterer_agglo.labels_))\n",
    "    color_palette = sns.color_palette(\"Paired\", nr_colors)\n",
    "    cluster_colors = [\n",
    "        color_palette[x] if x >= 0 else (0.5, 0.5, 0.5) for x in clusterer_agglo.labels_\n",
    "    ]\n",
    "    plt.scatter(*data_embedded.T, s=20, linewidth=0, c=cluster_colors, alpha=0.25)\n",
    "    n_clusters_ = len(set(clusterer_agglo.labels_)) - (\n",
    "        1 if -1 in clusterer_agglo.labels_ else 0\n",
    "    )\n",
    "    print(\"Estimated number of clusters: %d\" % n_clusters_)"
   ]
  },
  {
   "cell_type": "markdown",
   "id": "9e31e3da-5948-474f-b0d3-c4df30f1a0d7",
   "metadata": {},
   "source": [
    "## Input Clustering"
   ]
  },
  {
   "cell_type": "code",
   "execution_count": 17,
   "id": "d815f365-43e8-4db7-a59e-743a941828d7",
   "metadata": {
    "tags": []
   },
   "outputs": [
    {
     "name": "stdout",
     "output_type": "stream",
     "text": [
      "(60000, 28, 28)\n",
      "(60000, 784)\n",
      "(6000, 784)\n"
     ]
    }
   ],
   "source": [
    "cluster_data = training_data.mnist.data.numpy()\n",
    "cluster_targets = training_data.mnist.targets.numpy()\n",
    "print(cluster_data.shape)\n",
    "# cluster_data_transposed = cluster_data.transpose(0, 2, 1)\n",
    "cluster_data_transposed = cluster_data\n",
    "cluster_data_reshaped = cluster_data_transposed.reshape(cluster_data_transposed.shape[0], -1)\n",
    "print(cluster_data_reshaped.shape)\n",
    "cluster_data_dict = {}\n",
    "for i in range(len(cluster_data)):\n",
    "    label = cluster_targets[i]\n",
    "    if label in cluster_data_dict.keys():\n",
    "        cluster_data_dict[label] = np.vstack([cluster_data_dict[label], cluster_data_reshaped[i]])\n",
    "    else:\n",
    "        cluster_data_dict[label] = cluster_data_reshaped[i]\n",
    "print(cluster_data_dict[9].shape)"
   ]
  },
  {
   "cell_type": "code",
   "execution_count": 18,
   "id": "c89ffb22-31db-4b4e-8a1b-35f3f46d0a8a",
   "metadata": {
    "tags": []
   },
   "outputs": [],
   "source": [
    "from collections import Counter\n",
    "\n",
    "n_clusters = 5\n",
    "linkage = \"ward\"\n",
    "metric = \"euclidean\"\n",
    "clusterer_dict = {}\n",
    "for key in cluster_data_dict.keys():\n",
    "    clusterer = agglo_clustering(n_clusters, linkage, metric, cluster_data_dict[key])\n",
    "    clusterer_dict[key] = clusterer"
   ]
  },
  {
   "cell_type": "code",
   "execution_count": 19,
   "id": "2e417ed8-7d9c-4662-afc5-890fc695db5b",
   "metadata": {
    "tags": []
   },
   "outputs": [
    {
     "name": "stdout",
     "output_type": "stream",
     "text": [
      "0 {0, 1, 2, 3, 4} [0 1 4 ... 4 3 0] [0 1 4 ... 4 3 0]\n",
      "1 {5, 6, 7, 8, 9} [2 3 1 ... 4 1 0] [7 8 6 ... 9 6 5]\n",
      "2 {10, 11, 12, 13, 14} [3 0 0 ... 2 2 3] [13 10 10 ... 12 12 13]\n",
      "3 {15, 16, 17, 18, 19} [1 1 0 ... 2 4 4] [16 16 15 ... 17 19 19]\n",
      "4 {20, 21, 22, 23, 24} [1 2 0 ... 0 3 2] [21 22 20 ... 20 23 22]\n",
      "5 {25, 26, 27, 28, 29} [0 2 1 ... 0 1 3] [25 27 26 ... 25 26 28]\n",
      "6 {32, 33, 34, 30, 31} [2 4 4 ... 1 0 3] [32 34 34 ... 31 30 33]\n",
      "7 {35, 36, 37, 38, 39} [2 2 2 ... 0 2 0] [37 37 37 ... 35 37 35]\n",
      "8 {40, 41, 42, 43, 44} [2 2 0 ... 0 4 0] [42 42 40 ... 40 44 40]\n",
      "9 {45, 46, 47, 48, 49} [0 2 3 ... 1 0 0] [45 47 48 ... 46 45 45]\n"
     ]
    },
    {
     "data": {
      "text/plain": [
       "(60000,)"
      ]
     },
     "execution_count": 19,
     "metadata": {},
     "output_type": "execute_result"
    }
   ],
   "source": [
    "targets_ = np.array([], dtype=np.uint8)\n",
    "for key in sorted(clusterer_dict.keys()):\n",
    "    cluster_labels = clusterer_dict[key].labels_\n",
    "    cluster_labels_new = cluster_labels + key * n_clusters\n",
    "    # cluster_labels_new = [key] * len(cluster_labels)\n",
    "    print(key, set(cluster_labels_new), cluster_labels, cluster_labels_new)\n",
    "    targets_ = np.append(targets_, cluster_labels_new)\n",
    "targets_.shape"
   ]
  },
  {
   "cell_type": "code",
   "execution_count": 20,
   "id": "1f511315-5774-4946-83d4-aa4a225aee18",
   "metadata": {
    "tags": []
   },
   "outputs": [
    {
     "data": {
      "text/plain": [
       "(60000, 28, 28)"
      ]
     },
     "execution_count": 20,
     "metadata": {},
     "output_type": "execute_result"
    }
   ],
   "source": [
    "reshaped_matrices = []\n",
    "for key in sorted(clusterer_dict.keys()):\n",
    "    img_reshaped = cluster_data_dict[key].reshape(6000, 28, 28)\n",
    "    # img_reshaped = cluster_data_dict[key].reshape(6000, 28, 28)\n",
    "    reshaped_matrices.append(img_reshaped)\n",
    "img_ = np.array(np.concatenate(reshaped_matrices))\n",
    "img_.shape\n"
   ]
  },
  {
   "cell_type": "code",
   "execution_count": 21,
   "id": "b028a4ef-728e-4309-8586-051222588113",
   "metadata": {
    "tags": []
   },
   "outputs": [
    {
     "data": {
      "image/png": "[encoded data removed]",
      "text/plain": [
       "<Figure size 640x480 with 4 Axes>"
      ]
     },
     "metadata": {},
     "output_type": "display_data"
    }
   ],
   "source": [
    "fig, axs = plt.subplots(1, 4)\n",
    "axs[0].imshow(np.reshape(cluster_data_reshaped[0], (28, 28)), cmap=\"gray\")\n",
    "axs[1].imshow(cluster_data[0].T, cmap=\"gray\")\n",
    "axs[2].imshow(np.reshape(cluster_data_dict[4][0], (28, 28)), cmap=\"gray\")\n",
    "axs[3].imshow(img_[24_000], cmap=\"gray\")\n",
    "\n",
    "plt.show()"
   ]
  },
  {
   "cell_type": "raw",
   "id": "c2aefc38-50f5-40cf-9895-d5c9ca60245f",
   "metadata": {
    "tags": []
   },
   "source": [
    "eps_range = np.arange(1000, 3000, 100)\n",
    "min_pts_range = np.arange(10, 100, 10)\n",
    "for eps in eps_range:\n",
    "    for min_pts in min_pts_range:\n",
    "        clusterer_dbscan, n_clusters, n_noise = dbscan(eps, min_pts, cluster_data_reshaped)\n",
    "        print(eps, min_pts, Counter(clusterer_dbscan.labels_), n_noise)"
   ]
  },
  {
   "cell_type": "markdown",
   "id": "1073e3d0-7569-4bdb-a9d6-6d54e2126474",
   "metadata": {},
   "source": [
    "# CNN\n",
    "- Source: [Vast](https://github.com/Vastlab/vast/blob/63-network-architectures-include-bias-neuron-in-the-last-layer/vast/architectures/architectures.py#L77)"
   ]
  },
  {
   "cell_type": "markdown",
   "id": "9270fe8e-ee05-48a6-9580-67edf31e7ec4",
   "metadata": {},
   "source": [
    "## Model"
   ]
  },
  {
   "cell_type": "code",
   "execution_count": 22,
   "id": "9c2641f5-a2c8-45a9-b198-f5af252a2752",
   "metadata": {
    "tags": []
   },
   "outputs": [],
   "source": [
    "class LeNet(nn.Module):\n",
    "    def __init__(\n",
    "        self,\n",
    "        use_classification_layer=True,\n",
    "        use_BG=False,\n",
    "        num_classes=10,\n",
    "        final_layer_bias=True,\n",
    "    ):\n",
    "        super(LeNet, self).__init__()\n",
    "        self.conv1 = nn.Conv2d(\n",
    "            in_channels=1, out_channels=20, kernel_size=(5, 5), stride=1, padding=2\n",
    "        )\n",
    "        self.pool = nn.MaxPool2d(kernel_size=(2, 2), stride=2)\n",
    "        self.conv2 = nn.Conv2d(\n",
    "            in_channels=self.conv1.out_channels,\n",
    "            out_channels=50,\n",
    "            kernel_size=(5, 5),\n",
    "            stride=1,\n",
    "            padding=2,\n",
    "        )\n",
    "        self.fc1 = nn.Linear(\n",
    "            in_features=self.conv2.out_channels * 7 * 7, out_features=500, bias=True\n",
    "        )\n",
    "        if use_classification_layer:\n",
    "            if use_BG:\n",
    "                self.fc2 = nn.Linear(\n",
    "                    in_features=500, out_features=num_classes + 1, bias=final_layer_bias\n",
    "                )\n",
    "            else:\n",
    "                self.fc2 = nn.Linear(\n",
    "                    in_features=500, out_features=num_classes, bias=final_layer_bias\n",
    "                )\n",
    "        self.relu_act = nn.ReLU()\n",
    "        self.use_classification_layer = use_classification_layer\n",
    "        print(\n",
    "            f\"{' Model Architecture '.center(90, '#')}\\n{self}\\n{' Model Architecture End '.center(90, '#')}\"\n",
    "        )\n",
    "\n",
    "    def forward(self, x):\n",
    "        act_conv1 = self.pool(self.relu_act(self.conv1(x)))\n",
    "        act_conv2 = self.pool(self.relu_act(self.conv2(act_conv1)))\n",
    "        act_conv2_reshaped = act_conv2.view(\n",
    "            -1, self.conv2.out_channels * 7 * 7\n",
    "        )  #  view method is used to reshape a tensor without changing its data.\n",
    "        features = self.fc1(act_conv2_reshaped)\n",
    "        if self.use_classification_layer:\n",
    "            logits = self.fc2(features)\n",
    "            predictions = nn.Softmax(dim=1)(logits)\n",
    "            return predictions, logits, features\n",
    "        return features"
   ]
  },
  {
   "cell_type": "code",
   "execution_count": 23,
   "id": "025efc5f-b441-45d0-933d-7838d7e6609e",
   "metadata": {
    "tags": []
   },
   "outputs": [
    {
     "name": "stdout",
     "output_type": "stream",
     "text": [
      "################################### Model Architecture ###################################\n",
      "LeNet(\n",
      "  (conv1): Conv2d(1, 20, kernel_size=(5, 5), stride=(1, 1), padding=(2, 2))\n",
      "  (pool): MaxPool2d(kernel_size=(2, 2), stride=2, padding=0, dilation=1, ceil_mode=False)\n",
      "  (conv2): Conv2d(20, 50, kernel_size=(5, 5), stride=(1, 1), padding=(2, 2))\n",
      "  (fc1): Linear(in_features=2450, out_features=500, bias=True)\n",
      "  (fc2): Linear(in_features=500, out_features=10, bias=True)\n",
      "  (relu_act): ReLU()\n",
      ")\n",
      "################################# Model Architecture End #################################\n"
     ]
    }
   ],
   "source": [
    "model = LeNet(\n",
    "    use_classification_layer=True, use_BG=False, num_classes=10, final_layer_bias=True\n",
    ")\n",
    "\n",
    "learning_rate = 0.001\n",
    "loss_fn = nn.CrossEntropyLoss()\n",
    "optimizer = torch.optim.SGD(model.parameters(), lr=learning_rate, momentum=0.9)"
   ]
  },
  {
   "cell_type": "markdown",
   "id": "5cc112d9-6074-4e93-bc6f-28e842339056",
   "metadata": {},
   "source": [
    "## Training"
   ]
  },
  {
   "cell_type": "markdown",
   "id": "33b21361-4031-4fc0-83d1-7204721c4b73",
   "metadata": {
    "tags": []
   },
   "source": [
    "### Model with Classifier"
   ]
  },
  {
   "cell_type": "code",
   "execution_count": 24,
   "id": "62588e85-e287-4e6d-bc96-90e8385df7d8",
   "metadata": {
    "tags": []
   },
   "outputs": [
    {
     "name": "stdout",
     "output_type": "stream",
     "text": [
      "Loaded: openmax_cnn_eminst0.pth\n"
     ]
    },
    {
     "name": "stderr",
     "output_type": "stream",
     "text": [
      "Epoch [1/1]: 100%|███████████████████████████████████████████████████████████████████████████████████████████| 1875/1875 [00:53<00:00, 34.99batch/s, acc=0.964, loss=1.46]"
     ]
    },
    {
     "name": "stdout",
     "output_type": "stream",
     "text": [
      "Average loss: 1.500 - Accuracy: 0.964\n",
      "Saved model: openmax_cnn_eminst0.pth\n"
     ]
    },
    {
     "name": "stderr",
     "output_type": "stream",
     "text": [
      "\n"
     ]
    }
   ],
   "source": [
    "path_model = \"openmax_cnn_eminst0.pth\"\n",
    "# path_model = \"openmax_model.pth\"\n",
    "if os.path.isfile(path_model):\n",
    "    model.load_state_dict(torch.load(path_model))\n",
    "    print(f\"Loaded: {path_model}\")\n",
    "\n",
    "num_epochs = 1\n",
    "features_dict = {}\n",
    "\n",
    "randy = np.random.randint(0, len(training_data)/BATCH_SIZE)\n",
    "\n",
    "model.train()\n",
    "for epoch in range(num_epochs):\n",
    "    with tqdm(train_data_loader, unit=\"batch\") as tepoch:\n",
    "        correct_predictions = 0\n",
    "        total_loss = 0.0\n",
    "        \n",
    "        counter=0\n",
    "        for batch_inputs, batch_labels in tepoch:\n",
    "            tepoch.set_description(f\"Epoch [{epoch+1}/{num_epochs}]\")\n",
    "\n",
    "            optimizer.zero_grad()\n",
    "            if counter == randy:\n",
    "                batch_inputs_test0 = batch_inputs\n",
    "                batch_labels_test0 = batch_labels\n",
    "            counter += 1\n",
    "\n",
    "            # Forward pass\n",
    "            training_predictions, _, training_features = model(batch_inputs)\n",
    "\n",
    "            if epoch == num_epochs - 1:\n",
    "                _, training_pred = torch.max(training_predictions, 1)\n",
    "                for pred, label, features in zip(\n",
    "                    training_pred, batch_labels, training_features\n",
    "                ):\n",
    "                    if pred == label:\n",
    "                        if label.item() in features_dict:\n",
    "                            features_dict[label.item()] = torch.cat(\n",
    "                                (features_dict[label.item()], features[None, :]), 0\n",
    "                            )\n",
    "                        else:\n",
    "                            features_dict[label.item()] = features[None, :]\n",
    "\n",
    "            loss = loss_fn(training_predictions, batch_labels)\n",
    "\n",
    "            # Backpropagation and optimization\n",
    "            loss.backward()\n",
    "            optimizer.step()\n",
    "\n",
    "            total_loss += loss.item()\n",
    "\n",
    "            _, predicted = torch.max(training_predictions, 1)\n",
    "            correct_predictions += (predicted == batch_labels).sum().item()\n",
    "\n",
    "            curr_acc = correct_predictions / len(training_data)\n",
    "            tepoch.set_postfix(loss=loss.item(), acc=curr_acc)\n",
    "\n",
    "        accuracy = correct_predictions / len(training_data)\n",
    "        avg_loss = total_loss / len(train_data_loader)\n",
    "        print(f\"Average loss: {avg_loss:.3f} - Accuracy: {accuracy:.3f}\")\n",
    "\n",
    "# Save the trained model\n",
    "torch.save(model.state_dict(), path_model)\n",
    "print(f\"Saved model: {path_model}\")"
   ]
  },
  {
   "cell_type": "markdown",
   "id": "333f90ee-8d06-4720-bc6b-e6b6bc4af202",
   "metadata": {},
   "source": [
    "- Adjust CCE to first log only target cluster(maximize), second log (minimize) remove cluster that are from the same nummer\n",
    "- eval -> new formula see screenshot\n",
    "- OSCR -> unknown not necessary, ander klassen runter trenieren darum trotzdem vonnöten\n",
    "- logits openmax cluster -> score only for correct class"
   ]
  },
  {
   "cell_type": "code",
   "execution_count": 25,
   "id": "6f994f88-930d-4a8a-878f-ab422e1ea0f0",
   "metadata": {
    "tags": []
   },
   "outputs": [
    {
     "name": "stdout",
     "output_type": "stream",
     "text": [
      "torch.Size([1, 28, 28])\n",
      "tensor([2, 0, 3, 5, 0, 9, 6, 9, 1, 6, 0, 6, 0, 1, 5, 4, 5, 7, 0, 7, 0, 2, 1, 4,\n",
      "        4, 9, 2, 5, 8, 4, 1, 6])\n"
     ]
    },
    {
     "data": {
      "image/png": "[encoded data removed]",
      "text/plain": [
       "<Figure size 640x480 with 32 Axes>"
      ]
     },
     "metadata": {},
     "output_type": "display_data"
    }
   ],
   "source": [
    "print(batch_inputs_test0[31].shape)\n",
    "print((batch_labels_test0))\n",
    "cols = 8\n",
    "rows = len(batch_inputs_test0) // cols if len(batch_inputs_test0) % cols == 0 else len(batch_inputs_test0) // cols + 1\n",
    "fig, axs = plt.subplots(rows, cols)\n",
    "fig.subplots_adjust(hspace = 1.5, wspace=1)\n",
    "\n",
    "\n",
    "counter = 0 \n",
    "for row in range(rows):\n",
    "    for col in range(cols):\n",
    "        axs[row][col].imshow(batch_inputs_test0[counter][0], cmap=\"gray\")\n",
    "        axs[row][col].title.set_text(f'GT: [{batch_labels_test0[counter]//5}|{batch_labels_test0[counter]}] ')\n",
    "        axs[row][col].set_xticklabels([])\n",
    "        axs[row][col].set_yticklabels([])\n",
    "        axs[row][col].title.set_fontsize(8)\n",
    "        counter += 1\n",
    "plt.show()"
   ]
  },
  {
   "cell_type": "markdown",
   "id": "9a6b4694-44fa-4f90-8d08-b99a0e1738ab",
   "metadata": {},
   "source": [
    "### Model with Clustering"
   ]
  },
  {
   "cell_type": "code",
   "execution_count": 26,
   "id": "91ed02cb-9d91-4b52-9c10-66ada20af6e9",
   "metadata": {
    "tags": []
   },
   "outputs": [
    {
     "name": "stdout",
     "output_type": "stream",
     "text": [
      "torch.Size([60000, 28, 28]) torch.Size([60000, 28, 28])\n"
     ]
    }
   ],
   "source": [
    "cluster_training_dataset = Cluster_Dataset(img_, targets_, \"./downloads/\")\n",
    "cluster_train_data_loader = torch.utils.data.DataLoader(\n",
    "    cluster_training_dataset, batch_size=BATCH_SIZE, shuffle=True, num_workers=5, pin_memory=True\n",
    ")"
   ]
  },
  {
   "cell_type": "code",
   "execution_count": 27,
   "id": "3978e82c-5abc-4dcd-abae-d26ddccac5ab",
   "metadata": {
    "tags": []
   },
   "outputs": [
    {
     "name": "stdout",
     "output_type": "stream",
     "text": [
      "################################### Model Architecture ###################################\n",
      "LeNet(\n",
      "  (conv1): Conv2d(1, 20, kernel_size=(5, 5), stride=(1, 1), padding=(2, 2))\n",
      "  (pool): MaxPool2d(kernel_size=(2, 2), stride=2, padding=0, dilation=1, ceil_mode=False)\n",
      "  (conv2): Conv2d(20, 50, kernel_size=(5, 5), stride=(1, 1), padding=(2, 2))\n",
      "  (fc1): Linear(in_features=2450, out_features=500, bias=True)\n",
      "  (fc2): Linear(in_features=500, out_features=50, bias=True)\n",
      "  (relu_act): ReLU()\n",
      ")\n",
      "################################# Model Architecture End #################################\n"
     ]
    }
   ],
   "source": [
    "cluster_model = LeNet(\n",
    "    use_classification_layer=True, use_BG=False, num_classes=50, final_layer_bias=True\n",
    ")\n",
    "\n",
    "learning_rate = 0.001\n",
    "loss_fn = nn.CrossEntropyLoss()\n",
    "optimizer = torch.optim.SGD(cluster_model.parameters(), lr=learning_rate, momentum=0.98)"
   ]
  },
  {
   "cell_type": "code",
   "execution_count": 28,
   "id": "c23ce542-0bfd-4464-b570-c7648b4ff582",
   "metadata": {
    "tags": []
   },
   "outputs": [
    {
     "data": {
      "image/png": "[encoded data removed]",
      "text/plain": [
       "<Figure size 640x480 with 2 Axes>"
      ]
     },
     "metadata": {},
     "output_type": "display_data"
    }
   ],
   "source": [
    "# training_data.mnist.targets = torch.zeros_like(training_data.mnist.targets)\n",
    "# print(training_data[0][0].dtype, cluster_training_dataset[0][0].dtype)\n",
    "# print(training_data[0][0].shape, cluster_training_dataset[0][0].shape)\n",
    "fig, axs = plt.subplots(1, 2)\n",
    "rd = np.random.randint(0,60000)\n",
    "axs[0].imshow(training_data[rd][0][0], cmap=\"gray\")\n",
    "axs[0].title.set_text(f'GT: {training_data[rd][1]}')\n",
    "axs[1].imshow(cluster_training_dataset[rd][0][0], cmap=\"gray\")\n",
    "axs[1].title.set_text(f'GT: {cluster_training_dataset[rd][1]} | {cluster_training_dataset[rd][1]//5}')\n",
    "plt.show()"
   ]
  },
  {
   "cell_type": "raw",
   "id": "43e411cc-993f-4798-9b95-82717c7ca17b",
   "metadata": {
    "tags": []
   },
   "source": [
    "path_model_cluster = \"openmax_cnn_eminst_cluster20.pth\"\n",
    "# path_model = \"openmax_model.pth\"\n",
    "if os.path.isfile(path_model_cluster):\n",
    "    cluster_model.load_state_dict(torch.load(path_model_cluster))\n",
    "    print(f\"Loaded: {path_model_cluster}\")\n",
    "\n",
    "num_epochs = 1\n",
    "cluster_features_dict = {}\n",
    "\n",
    "cluster_model.train()\n",
    "for epoch in range(num_epochs):\n",
    "    with tqdm(cluster_train_data_loader, unit=\"batch\") as tepoch:\n",
    "        correct_predictions = 0\n",
    "        total_loss = 0.0\n",
    "        \n",
    "        counter=0\n",
    "        for batch_inputs, batch_labels in tepoch:\n",
    "            tepoch.set_description(f\"Epoch [{epoch+1}/{num_epochs}]\")\n",
    "\n",
    "            optimizer.zero_grad()\n",
    "            if counter == randy:\n",
    "                batch_inputs_test = batch_inputs\n",
    "                batch_labels_test = batch_labels\n",
    "            counter += 1\n",
    "\n",
    "            # Forward pass\n",
    "            training_predictions, _, training_features = cluster_model(batch_inputs)\n",
    "\n",
    "            if epoch == num_epochs - 1:\n",
    "                _, training_pred = torch.max(training_predictions, 1)\n",
    "                for pred, label, features in zip(\n",
    "                    training_pred, batch_labels, training_features\n",
    "                ):\n",
    "                    if pred == label:\n",
    "                        if label.item() in features_dict:\n",
    "                            cluster_features_dict[label.item()] = torch.cat(\n",
    "                                (cluster_features_dict[label.item()], features[None, :]), 0\n",
    "                            )\n",
    "                        else:\n",
    "                            cluster_features_dict[label.item()] = features[None, :]\n",
    "\n",
    "            loss = loss_fn(training_predictions, batch_labels)\n",
    "\n",
    "            # Backpropagation and optimization\n",
    "            loss.backward()\n",
    "            optimizer.step()\n",
    "\n",
    "            total_loss += loss.item()\n",
    "\n",
    "            _, predicted = torch.max(training_predictions, 1)\n",
    "            correct_predictions += (predicted == batch_labels).sum().item()\n",
    "\n",
    "            curr_acc = correct_predictions / len(training_data)\n",
    "            tepoch.set_postfix(loss=loss.item(), acc=curr_acc)\n",
    "\n",
    "        accuracy = correct_predictions / len(training_data)\n",
    "        avg_loss = total_loss / len(train_data_loader)\n",
    "        print(f\"Average loss: {avg_loss:.3f} - Accuracy: {accuracy:.3f}\")\n",
    "\n",
    "# Save the trained model\n",
    "torch.save(cluster_model.state_dict(), path_model_cluster)\n",
    "print(f\"Saved model: {path_model_cluster}\")"
   ]
  },
  {
   "cell_type": "raw",
   "id": "ee55ed7c-2887-4fae-9465-513ba7617c8f",
   "metadata": {
    "tags": []
   },
   "source": [
    "print(batch_inputs_test[30].shape)\n",
    "print((batch_labels_test))\n",
    "cols = 8\n",
    "rows = len(batch_inputs_test) // cols if len(batch_inputs_test) % cols == 0 else len(batch_inputs_test) // cols + 1\n",
    "fig, axs = plt.subplots(rows, cols)\n",
    "fig.subplots_adjust(hspace = 1.5, wspace=1)\n",
    "\n",
    "\n",
    "counter = 0 \n",
    "for row in range(rows):\n",
    "    for col in range(cols):\n",
    "        axs[row][col].imshow(batch_inputs_test[counter][0], cmap=\"gray\")\n",
    "        axs[row][col].title.set_text(f'GT: [{batch_labels_test[counter]//5}|{batch_labels_test[counter]}] ')\n",
    "        axs[row][col].set_xticklabels([])\n",
    "        axs[row][col].set_yticklabels([])\n",
    "        axs[row][col].title.set_fontsize(8)\n",
    "        counter += 1\n",
    "plt.show()"
   ]
  },
  {
   "cell_type": "markdown",
   "id": "b277a5e8-7bc0-474e-971b-bc077981aeff",
   "metadata": {},
   "source": [
    "### Openmax Training"
   ]
  },
  {
   "cell_type": "code",
   "execution_count": 40,
   "id": "c9a6bd19-8eef-4a59-a300-2d876f4faa5e",
   "metadata": {
    "tags": []
   },
   "outputs": [
    {
     "name": "stdout",
     "output_type": "stream",
     "text": [
      "[10, 100, 250, 500, 750, 1000]\n",
      "[1.5, 1.7, 2.0, 2.3]\n"
     ]
    }
   ],
   "source": [
    "tail_sizes = [10, 100, 250, 500, 750, 1000, 1250, 1500, 1750, 2000]\n",
    "tail_sizes = [10, 100, 250, 500, 750, 1000]\n",
    "# tail_sizes = [750, 1000]\n",
    "# tail_sizes = np.arange(1500, 2500, 150)\n",
    "print(tail_sizes)\n",
    "distance_multpls = [1.50, 1.7, 2.0, 2.3, 2.5, 2.7, 3., 3.5, 4.]\n",
    "distance_multpls = [1.50, 1.7, 2.0, 2.3]\n",
    "\n",
    "# distance_multpls = [2.0, 2.5]\n",
    "# distance_multpls = np.arange(2.0, 3.5, 0.25)\n",
    "print(distance_multpls)\n",
    "\n",
    "models_dict = {}\n",
    "\n",
    "for tail in tail_sizes:\n",
    "    for dist_mult in distance_multpls:\n",
    "        model_ = openmax_training(features_dict, dist_mult, tail)\n",
    "        key = f\"{tail}-{dist_mult}\"\n",
    "        models_dict[key] = model_"
   ]
  },
  {
   "cell_type": "markdown",
   "id": "1d2a5232-4b35-4b1e-aa1e-5e36c6d98cb7",
   "metadata": {},
   "source": [
    "## Validation"
   ]
  },
  {
   "cell_type": "code",
   "execution_count": 30,
   "id": "78025da7-ba61-487c-a8d0-e24aa6a54227",
   "metadata": {
    "tags": []
   },
   "outputs": [
    {
     "name": "stdout",
     "output_type": "stream",
     "text": [
      "Loaded: openmax_cnn_eminst0.pth\n"
     ]
    },
    {
     "name": "stderr",
     "output_type": "stream",
     "text": [
      "Validation: 100%|███████████████████████████████████████████████████████████████████████████████████████████████| 588/588 [00:10<00:00, 54.56batch/s, acc=0.51, loss=1.46]"
     ]
    },
    {
     "name": "stdout",
     "output_type": "stream",
     "text": [
      "Average loss: 1.461 - Accuracy: 0.510\n"
     ]
    },
    {
     "name": "stderr",
     "output_type": "stream",
     "text": [
      "\n"
     ]
    }
   ],
   "source": [
    "if os.path.isfile(path_model):\n",
    "    model.load_state_dict(torch.load(path_model))\n",
    "    print(f\"Loaded: {path_model}\")\n",
    "\n",
    "val_logits_dict = {}\n",
    "val_features_dict = {}\n",
    "\n",
    "with torch.no_grad():\n",
    "    model.eval()\n",
    "    with tqdm(val_data_loader, unit=\"batch\") as tepoch:\n",
    "        correct_predictions = 0\n",
    "        total_loss = 0.0\n",
    "\n",
    "        for batch_inputs, batch_labels in tepoch:\n",
    "            tepoch.set_description(f\"Validation\")\n",
    "\n",
    "            val_predictions, val_logits, val_features = model(batch_inputs)\n",
    "\n",
    "            _, val_predicted = torch.max(val_predictions, 1)\n",
    "            for pred, label, logits, features in zip(\n",
    "                val_predicted, batch_labels, val_logits, val_features\n",
    "            ):\n",
    "                if label.item() in val_features_dict:\n",
    "                    val_features_dict[label.item()] = torch.cat(\n",
    "                        (val_features_dict[label.item()], features[None, :]), 0\n",
    "                    )\n",
    "                    val_logits_dict[label.item()] = torch.cat(\n",
    "                        (val_logits_dict[label.item()], logits[None, :]), 0\n",
    "                    )\n",
    "                else:\n",
    "                    val_features_dict[label.item()] = features[None, :]\n",
    "                    val_logits_dict[label.item()] = logits[None, :]\n",
    "\n",
    "            correct_predictions += (val_predicted == batch_labels).sum().item()\n",
    "            \n",
    "           #  loss = loss_fn(val_predictions, batch_labels)\n",
    "\n",
    "            total_loss += loss.item()\n",
    "\n",
    "            batch_acc = correct_predictions / len(validation_data)\n",
    "            tepoch.set_postfix(loss=loss.item(), acc=batch_acc)\n",
    "\n",
    "        accuracy = correct_predictions / len(validation_data)\n",
    "        avg_loss = total_loss / len(val_data_loader)\n",
    "        print(f\"Average loss: {avg_loss:.3f} - Accuracy: {accuracy:.3f}\")"
   ]
  },
  {
   "cell_type": "markdown",
   "id": "5b7c0a6b-a42f-4d6b-9409-7e9c567a6e5c",
   "metadata": {},
   "source": [
    "## OpenMax"
   ]
  },
  {
   "cell_type": "markdown",
   "id": "b6bee869-2256-488a-b70c-6f8cc466843d",
   "metadata": {},
   "source": [
    "### Inference"
   ]
  },
  {
   "cell_type": "code",
   "execution_count": 41,
   "id": "6a2e64ab-eb9e-401f-80fd-ee29ea47bff7",
   "metadata": {
    "tags": []
   },
   "outputs": [],
   "source": [
    "models_props_dict = {}\n",
    "for key in models_dict.keys():\n",
    "    props_dict: dict = openmax_inference(val_features_dict, models_dict[key])\n",
    "    models_props_dict[key] = props_dict"
   ]
  },
  {
   "cell_type": "markdown",
   "id": "aa7dbfb1-7353-480a-b5af-6e7305c09ed2",
   "metadata": {},
   "source": [
    "### Alpha"
   ]
  },
  {
   "cell_type": "code",
   "execution_count": 56,
   "id": "874f3720-4663-4f24-9f57-889545817304",
   "metadata": {
    "tags": []
   },
   "outputs": [],
   "source": [
    "openmax_models_predictions = {}\n",
    "\n",
    "for model_idx in models_dict.keys():\n",
    "    openmax_prob_dict = {}\n",
    "    for idx, key in enumerate(models_props_dict[model_idx].keys()):\n",
    "        assert key == list(val_logits_dict.keys())[idx]\n",
    "        assert (\n",
    "            models_props_dict[model_idx][key].shape[1] == val_logits_dict[key].shape[1]\n",
    "        )\n",
    "        \n",
    "        openmax_prob_dict[key]= openmax_alpha(\n",
    "            models_props_dict[model_idx][key],\n",
    "            val_logits_dict[key],\n",
    "            alpha=9,\n",
    "            negative_fix=\"VALUE_SHIFT\",\n",
    "            # negative_fix=\"ABS_REV_ACTV\",\n",
    "            debug=False,\n",
    "            ignore_unknown_class=True\n",
    "        )\n",
    "    openmax_models_predictions[model_idx] = openmax_prob_dict"
   ]
  },
  {
   "cell_type": "markdown",
   "id": "9f54b35c-a204-4d90-9ab2-ea33a1a38cdd",
   "metadata": {
    "tags": []
   },
   "source": [
    "# Metrics"
   ]
  },
  {
   "cell_type": "code",
   "execution_count": 57,
   "id": "9cf9e383-c927-499a-abc3-bb85fa44c648",
   "metadata": {
    "tags": []
   },
   "outputs": [],
   "source": [
    "def calculate_oscr(gt, scores, unk_label=-1):\n",
    "    \"\"\" Calculates the OSCR values, iterating over the score of the target class of every sample,\n",
    "    produces a pair (ccr, fpr) for every score.\n",
    "    Args:\n",
    "        gt (np.array): Integer array of target class labels.\n",
    "        scores (np.array): Float array of dim [N_samples, N_classes]\n",
    "        unk_label (int): Label to calculate the fpr, either negatives or unknowns. Defaults to -1 (negatives)\n",
    "    Returns: Two lists first one for ccr, second for fpr.\n",
    "    \"\"\"\n",
    "    # Change the unk_label to calculate for kn_unknown or unk_unknown\n",
    "    gt = gt.astype(int)\n",
    "    kn = gt >= 0\n",
    "    unk = gt == unk_label\n",
    "\n",
    "    # Get total number of samples of each type\n",
    "    total_kn = np.sum(kn)\n",
    "    total_unk = np.sum(unk)\n",
    "\n",
    "    ccr, fpr = [], []\n",
    "    # get predicted class for known samples\n",
    "    pred_class = np.argmax(scores, axis=1)[kn]\n",
    "    correctly_predicted = pred_class == gt[kn]\n",
    "    target_score = scores[kn][range(kn.sum()), gt[kn]]\n",
    "\n",
    "    # get maximum scores for unknown samples\n",
    "    max_score = np.max(scores, axis=1)[unk]\n",
    "\n",
    "    # Any max score can be a threshold\n",
    "    thresholds = np.unique(max_score)\n",
    "\n",
    "    #print(target_score) #HB\n",
    "    for tau in thresholds:\n",
    "        # compute CCR value\n",
    "        val = (correctly_predicted & (target_score >= tau)).sum() / total_kn\n",
    "        ccr.append(val)\n",
    "\n",
    "        val = (max_score >= tau).sum() / total_unk\n",
    "        fpr.append(val)\n",
    "\n",
    "    ccr = np.array(ccr)\n",
    "    fpr = np.array(fpr)\n",
    "    return ccr, fpr"
   ]
  },
  {
   "cell_type": "code",
   "execution_count": 58,
   "id": "6b347618-a9a4-4e02-917e-1ad416c84751",
   "metadata": {
    "tags": []
   },
   "outputs": [],
   "source": [
    "def preprocess_oscr(class_scores_dict:dict):\n",
    "    all_probs_per_model = []\n",
    "    gt = []\n",
    "    for key in class_scores_dict.keys():\n",
    "        all_probs_per_model.append(class_scores_dict[key])\n",
    "        gt += [key] * len(class_scores_dict[key])\n",
    "    return np.array(gt), torch.cat(all_probs_per_model).numpy()\n",
    "    \n",
    "all_probs_all_models = {}\n",
    "for model_key in openmax_models_predictions.keys():\n",
    "    all_probs_all_models[model_key] = preprocess_oscr(openmax_models_predictions[model_key])"
   ]
  },
  {
   "cell_type": "code",
   "execution_count": 59,
   "id": "856aa67a-2742-41d7-b514-58aa03e133c7",
   "metadata": {
    "tags": []
   },
   "outputs": [],
   "source": [
    "ccr_fpr_dict = {}\n",
    "for model_key in all_probs_all_models.keys():\n",
    "    ccr_fpr_dict[model_key] = calculate_oscr(all_probs_all_models[model_key][0], all_probs_all_models[model_key][1])"
   ]
  },
  {
   "cell_type": "markdown",
   "id": "efd4a3f9-9c81-44bf-9339-d4a31ad67288",
   "metadata": {},
   "source": [
    "## OSCR"
   ]
  },
  {
   "cell_type": "code",
   "execution_count": 60,
   "id": "65e74510-927a-448f-932d-6abd57cecd88",
   "metadata": {
    "tags": []
   },
   "outputs": [
    {
     "data": {
      "image/png": "[encoded data removed]",
      "text/plain": [
       "<Figure size 640x480 with 1 Axes>"
      ]
     },
     "metadata": {},
     "output_type": "display_data"
    }
   ],
   "source": [
    "fig, axs = plt.subplots(1, 1)\n",
    "for key in ccr_fpr_dict.keys():\n",
    "    axs.plot(ccr_fpr_dict[key][1] , ccr_fpr_dict[key][0], label=key)\n",
    "plt.legend(loc='lower right')\n",
    "plt.show()"
   ]
  }
 ],
 "metadata": {
  "kernelspec": {
   "display_name": "openset-imagenet-comparison",
   "language": "python",
   "name": "openset-imagenet-comparison"
  },
  "language_info": {
   "codemirror_mode": {
    "name": "ipython",
    "version": 3
   },
   "file_extension": ".py",
   "mimetype": "text/x-python",
   "name": "python",
   "nbconvert_exporter": "python",
   "pygments_lexer": "ipython3",
   "version": "3.8.17"
  },
  "toc-autonumbering": true
 },
 "nbformat": 4,
 "nbformat_minor": 5
}
