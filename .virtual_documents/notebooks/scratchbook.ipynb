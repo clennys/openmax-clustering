import pickle
import matplotlib.pyplot as plt
import numpy as np
import torch


def load_pkl_dict(filename):
    folder = "../experiment_data/"
    with open(folder + filename, "rb") as f:
        loaded_file = pickle.load(f)
        return loaded_file


inspect = load_pkl_dict("oscr_data_base_1_1_-1_ABS_REV_ACTV_N-CLASSES.pkl")[0]
inspect = inspect['1500-1.25']
ccr = inspect[0]
fpr = inspect[1]
print(f"CCR (Y-axis): {ccr}")
print(f"FPR (X-axis) non-log: {fpr}")
print(f"FPR (X-axis) log: {np.log(fpr)}")
print(f"Shape: CCR {ccr.shape} and FPR {fpr.shape}")

threshy = 0.6
ar_diff = np.abs(fpr - threshy)
idx = np.argmin(ar_diff)
print(f"At threshold {threshy} actual value in fpr {fpr[idx]} with corresponding CCR {ccr[idx]}")

def oscr_epsilon_ccr_at_fpr(ccr, fpr, fpr_thresholds):
    threshold_values = []
    for threshold in fpr_thresholds:
        idx = np.where(fpr==threshold)
        value = ccr[idx]
        if value.shape[0] == 0: 
            value = np.append(value, 0.0)
        threshold_values.append((threshold, value))
    return np.sum([t[1] for t in threshold_values]), threshold_values

t_list = [0.1, 0.2, 0.3, 0.4, 0.8]

eps, t_val = oscr_epsilon_ccr_at_fpr(ccr, fpr, t_list)
eps, t_val


# Assume x is your [1000, 50] tensor
x = torch.randn(1000, 50)
print(x[0])
# Reshape the tensor to [1000, 10, 5]
x_reshaped = x.view(1000, 10, 5)
print(x_reshaped[0])


# Use torch.max on the last dimension
output, _ = torch.max(x_reshaped, dim=2)
output[0]


def multiply_tensors_with_sign(sorted_activations, weights):
    mask = sorted_activations < 0
    weights[mask] = 2 - weights[mask]
    return sorted_activations * weights


def value_shift(sorted_activations):
    min_values = torch.min(sorted_activations, dim=1).values

    # Reshape the min_values tensor to match the shape of 'a' for broadcasting
    min_values_reshaped = min_values.view(-1, 1)
    min_values_reshaped_abs = torch.abs(min_values_reshaped)

    # Add the minimum values to the corresponding rows of the original tensor
    return torch.add(sorted_activations, min_values_reshaped_abs)


randy = torch.randn(5,5)
randy


rando = torch.rand(5, 5)
rando


val = value_shift(randy) * rando


abs_value = multiply_tensors_with_sign(randy, rando)


softmax_abs = torch.nn.functional.softmax(abs_value, dim=1)
abs_value, softmax_abs, torch.max(softmax_abs, dim=1)


softmax_val = torch.nn.functional.softmax(val, dim=1)
val, softmax_val, torch.max(softmax_val, dim=1)


total = torch.sum(val, dim=1)
total


matrix = np.arange(25).reshape((5,5))
matrix


maxi = np.max(matrix, axis=1)
maxi


summe = np.sum(maxi)
summe


gt = np.arange(matrix.shape[0])
mask = gt > 0
mask, gt[mask], matrix[mask]


# Retrieve the values
values = matrix[mask][np.arange(matrix[mask].shape[0]), gt[mask]]
print(gt[mask])

print(values)



