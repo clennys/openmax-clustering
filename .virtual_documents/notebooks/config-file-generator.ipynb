import numpy as np
import pprint as pp


def write_yaml_file(file, data):
    with open(file, "w") as f:
        f.writelines(x + '\n' for x in data)


def dict_to_file(options, path):
    data = []
    for opt in options.keys():
        data.append(f"{opt}: {str(options[opt])}")
    
    file_name = f"params_{options['type']}_{options['alphas'][0]}_{options['negative_fix'][0]}_{options['tail_sizes'][0]}-{options['tail_sizes'][-1]}_{options['distance_multipls'][0]}-{options['distance_multipls'][-1]}.yaml"
    write_yaml_file(path + file_name, data)


options = {
    "type": "" ,
    "learning_rate": 0.01,
    "momentum": 0.9,
    "epochs": 1,
    "batch_size": 32,
    "num_clusters_per_class_input": [],
    "num_clusters_per_class_features": [],
    "alphas": "",
    "tail_sizes" : [],
    "distance_multipls": [],
    "negative_fix": "",
    "normalize_factor": "",
    "logger_output": "false",
    "train_only": "false",
    "log_dir": "./logs/",
    "saved_models_dir": "./saved_models/",
    "experiment_data_dir": "./experiment_data/",
    "emnist_dir": "./downloads/",
    "thresholds": [0.0001, 0.001, 0.01, 0.1, 0.3, 0.5, 0.7]
}


types = ["base", "input-cluster", "validation-features-cluster", "training-features-cluster", "input-validation-features-cluster", "input-validation-features-cluster"]
negative_fixes = ["ORIGINAL", "NEGATIVE_VALUE", "VALUE_SHIFT"]
norm = ["NONE", "WEIGHTS", "N-CLASSES", "NORM-WEIGHTS"]
path = "../configs/base/"


typ = types[0]
alphas = [-1, 3, 5, 7, 10]
tail_sizes = [10, 25, 50, 75] + np.arange(0, 5100, 100)[1:].tolist()
n = 8
per_file_tail_sizes = [tail_sizes[i:i + n] for i in range(0, len(tail_sizes), n)]
print(per_file_tail_sizes)
dist_multpl = [1.1] + np.arange(1.25, 6, 0.25).tolist()
n = 5
per_file_dist = [dist_multpl[i:i + n] for i in range(0, len(dist_multpl), n)]
print(per_file_dist)


for a in alphas:
    for nf in negative_fixes:
        for no in norm:
            for ts in per_file_tail_sizes:
                for d in per_file_dist:
                    for n in norm:
                        options['type'] = typ
                        options['alphas'] = [a]
                        options['tail_sizes'] = ts
                        options['distance_multipls'] = d
                        options['negative_fix'] = [nf]
                        options['normalize_factor'] = n
                        dict_to_file(options, path)
