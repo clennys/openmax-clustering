import pickle
import matplotlib.pyplot as plt
import numpy as np


def load_pkl_dict(filename):
    folder = "../experiment_data/"
    with open(folder + filename, "rb") as f:
        loaded_file = pickle.load(f)
        return loaded_file


def negative_fix_comparison(alphas):
    original = [] 
    abs_rev_actv = []
    value_shift = []

    for alpha in alphas:
        original.append(load_pkl_dict(f"oscr_data_base_1_1_{alpha}_Original_N-CLASSES.pkl"))
        abs_rev_actv.append(load_pkl_dict(f"oscr_data_base_1_1_{alpha}_ABS_REV_ACTV_N-CLASSES.pkl"))
        value_shift.append(load_pkl_dict(f"oscr_data_base_1_1_{alpha}_VALUE_SHIFT_N-CLASSES.pkl"))
    return original, abs_rev_actv, value_shift


data = load_pkl_dict(f"oscr_data_base_1_1_-1_ABS_REV_ACTV_N-CLASSES.pkl")
print(data.keys())


def gamma_score_eval(data):
    gamma_score = data['GAMMA']
    sorted_items = sorted(gamma_score.items(), key=lambda item: item[1][0], reverse=True)
    return sorted_items


g_org = gamma_score_eval(load_pkl_dict(f"oscr_data_base_1_1_-1_Original_NORM-WEIGHTS.pkl"))
g_nv = gamma_score_eval(load_pkl_dict(f"oscr_data_base_1_1_-1_ABS_REV_ACTV_NORM-WEIGHTS.pkl"))
g_vs =  gamma_score_eval(load_pkl_dict(f"oscr_data_base_1_1_-1_VALUE_SHIFT_NORM-WEIGHTS.pkl"))
for o, n, v in zip(g_org, g_nv, g_vs):
    print(f'OG: {o}\nNV: {n} \nVS: {v}')
    print("---" * 30)


def basic_plot_setup(rows, cols):
    for row in range(rows):
        for col in range(cols):
            axs[row][col].legend(loc="upper left")
            axs[row][col].set_xlabel('FPR')
            axs[row][col].set_ylabel('CCR')
            axs[row][col].grid()
            axs[row][col].set_xscale('log')
            # axs[row][col].set_xlim([0, 1])  # sets the x-axis limits
            axs[row][col].set_ylim([0, 1]) # sets the y-axis limits
            axs[row][col].set_xlim(8 * 1e-5, 1.4)
    return axs


def acc_table_negative_fix(alphas, data):
    rows = [f"Digit: {label}" for label in range(-1, 10)]
    rows += ["Overall Known:" , "Overall Unknown:", "Overall"]
    cols = [f"alpha: {a}" for a in alphas]
    cells = []
    total_corr_known = 0
    total_samples_known = 0
    total_corr_unknown = 0
    total_samples_unknown = 0
    for label in sorted(data.keys()):
        if label != - 1:
            total_corr_known += data[label][0]
            total_samples_known += data[label][1]
            acc = f"{data[label][0]/data[label][1]:.3f}"
            cells.append(acc)
        else:
            total_corr_unknown += data[label][0]
            total_samples_unknown += data[label][1]
            acc = f"{data[label][0]/data[label][1]:.3f}"
            cells.append(acc)
            
    cells.append(f"{(total_corr_known/total_samples_known).item():.3f}")
    cells.append(f"{(total_corr_unknown/total_samples_unknown).item():.3f}")
    cells.append(f"{((total_corr_unknown+total_corr_known)/(total_samples_unknown + total_samples_known)).item():.3f}")


    return cells, rows, cols
        


def plot_negative_fix_comparison(alphas, original, abs_rev_actv, vaule_shift):
    fig, axs = plt.subplots(len(original[0]['CCR-FPR'].keys()), 3)
    negative_fixes = ["Original", "VALUE_SHIFT", "ABS_REC_ACTV"]
    fig.set_figheight(600)
    fig.set_figwidth(20)
    original_table = []
    abs_rev_actv_table = []
    value_shift_table = []
    
    for alpha in range(len(alphas)):
        for id, key in enumerate(original[0]['CCR-FPR'].keys()):
            axs[id][0].title.set_text(f"Original - {key}")
            axs[id][0].plot(original[alpha]['CCR-FPR'][key][1], original[alpha]['CCR-FPR'][key][0], label=alphas[alpha])
            original_table.append(acc_table_negative_fix(alphas, original[alpha]['ACC'][key]))
        
            axs[id][1].title.set_text(f"Negative Values - {key}")
            axs[id][1].plot(abs_rev_actv[alpha]['CCR-FPR'][key][1], abs_rev_actv[alpha]['CCR-FPR'][key][0], label=alphas[alpha])
            abs_rev_actv_table.append(acc_table_negative_fix(alphas, abs_rec_actv[alpha]['ACC'][key]))

              
            axs[id][2].title.set_text(f"Value Shift - {key}")
            axs[id][2].plot(value_shift[alpha]['CCR-FPR'][key][1], value_shift[alpha]['CCR-FPR'][key][0], label=alphas[alpha])
            value_shift_table.append(acc_table_negative_fix(alphas, value_shift[alpha]['ACC'][key]))
    
    for row in range(len(original[0]['CCR-FPR'].keys())):
        for col in range(len(negative_fixes)):
            axs[row][col].legend(loc="upper left")
            axs[row][col].set_xlabel('FPR')
            axs[row][col].set_ylabel('CCR')
            axs[row][col].grid()
            axs[row][col].set_xscale('log')
            # axs[row][col].set_xlim([0, 1])  # sets the x-axis limits
            axs[row][col].set_ylim([0, 1]) # sets the y-axis limits
            axs[row][col].set_xlim(8 * 1e-5, 1.4)
            
            rows_chart = len(original[0]['CCR-FPR'].keys())
            cell_ = []
            for a in range(len(alphas)):
                if col == 0:
                    cell, rows, columns = original_table[row + a * rows_chart]
                    cell_.append(cell)
                    

                elif col == 1:
                    cell, rows, columns = abs_rev_actv_table[row + a * rows_chart]
                    cell_.append(cell)
                else:
                    cell, rows, columns = value_shift_table[row + a * rows_chart]
                    cell_.append(cell)
                    
            cell_text = np.array(cell_).T.tolist()
            axs[row][col].table(cellText=cell_text, 
                                  rowLabels=rows, 
                                  # rowColours=colors, 
                                  cellLoc = 'center', 
                                  rowLoc = 'center',
                                  colLabels=columns, 
                                  bbox=[0.1, -1.2, 0.8, 1], #[left, bottom, width, height]
                                  loc='bottom'
                               )
            
    plt.tight_layout()
    plt.show()


alphas = [-1]
original, abs_rec_actv, value_shift = negative_fix_comparison(alphas)

plot_negative_fix_comparison(alphas, original, abs_rec_actv, value_shift)


def acc_table_negative_fix_comp(original, abs_rec_actv, value_shift):
    
    rows = [f"Digit: {label}" for label in range(-1, 10)]
    rows += ["Overall Known:" , "Overall Unknown:", "Overall"]
    cols = ["Original", "Negative Value", "Value Shift"]
    cells = []
    total_corr_known = np.array([0,0,0])
    total_samples_known = np.array([0,0,0])
    total_corr_unknown = np.array([0,0,0])
    total_samples_unknown = np.array([0,0,0])gg
    for label in sorted(original.keys()):
        corr = np.array([original[label][0], abs_rec_actv[label][0], value_shift[label][0]])
        samples = np.array([original[label][1], abs_rec_actv[label][1], value_shift[label][1]])
        if label != - 1:
            total_corr_known += corr
            total_samples_known += samples
            acc = corr/samples
            acc_formated = [f"{number:.3f}" for number in acc]
            cells.append(acc_formated)
        else:
            total_corr_unknown += corr
            total_samples_unknown += samples
            acc = corr/samples
            acc_formated = [f"{number:.3f}" for number in acc]
            cells.append(acc_formated)
            
    cells.append([f"{(tot_corr/tot_samp).item():.3f}" for tot_corr, tot_samp in zip(total_corr_known, total_samples_known)])
    cells.append([f"{(tot_corr/tot_samp).item():.3f}" for tot_corr, tot_samp in zip(total_corr_unknown, total_samples_unknown)])
    cells.append([f"{(tot_corr/tot_samp).item():.3f}" for tot_corr, tot_samp in zip(total_corr_unknown + total_corr_known, total_samples_unknown + total_samples_known)])

    return cells, rows, cols
        


def plot_negative_fix_alpha_comparison(alphas, original, abs_rev_actv, value_shift):
    rows = len(original[0][0].keys())
    cols = len(alphas)
    fig, axs = plt.subplots(rows, cols)
    negative_fixes = ["Original", "VALUE_SHIFT", "ABS_REC_ACTV"]
    fig.set_figheight(600)
    fig.set_figwidth(20)
    
    for alpha in range(len(alphas)):
        for id, key in enumerate(original[0][0].keys()):
            axs[id][alpha].title.set_text(f"{key}- Alpha={alphas[alpha]}")
            axs[id][alpha].plot(original[alpha][0][key][1], original[alpha][0][key][0], label="Original")
            axs[id][alpha].plot(abs_rev_actv[alpha][0][key][1], abs_rev_actv[alpha][0][key][0], label="Negative Values")
            axs[id][alpha].plot(value_shift[alpha][0][key][1], value_shift[alpha][0][key][0], label="Value Shift")
            cell_text, rows_list, columns = acc_table_negative_fix_comp(original[alpha][1][key], abs_rec_actv[alpha][1][key], value_shift[alpha][1][key])
            axs[id][alpha].table(
                cellText=cell_text, 
                rowLabels=rows_list, 
                # rowColours=colors,
                cellLoc = 'center',
                rowLoc = 'center',
                colLabels=columns, 
                bbox=[0.1, -1.2, 0.8, 1], #[left, bottom, width, height]
                loc='bottom'
            )
            
    for row in range(rows):
        for col in range(cols):
            axs[row][col].legend(loc="lower right")
            axs[row][col].set_xlabel('FPR')
            axs[row][col].set_ylabel('CCR')
            axs[row][col].grid()
            axs[row][col].set_xscale('log')
            # axs[row][col].set_xlim([0, 1])  # sets the x-axis limits
            axs[row][col].set_ylim([0, 1]) # sets the y-axis limits
            axs[row][col].set_xlim(8 * 1e-5, 1.4)
    

    plt.tight_layout()
    plt.show()


plot_negative_fix_alpha_comparison(alphas, original, abs_rec_actv, value_shift)


def setup_cluster_comparison(alphas, n_input_cluster, n_feature_cluster, negative_fix):
    feature_cluster = []
    base = []
    input_cluster = []
    input_feature_cluster = []
    for alpha in alphas:
        feature_cluster.append(load_pkl_dict(f"oscr_data_feature-cluster_1_{n_feature_cluster}_{alpha}_{negative_fix}.pkl"))
        base.append(load_pkl_dict(f"oscr_data_base_1_1_{alpha}_{negative_fix}.pkl"))
        input_cluster.append(load_pkl_dict(f"oscr_data_input-cluster_{n_input_cluster}_1_{alpha}_{negative_fix}.pkl"))
        input_feature_cluster.append(load_pkl_dict(f"oscr_data_input-feature-cluster_{n_input_cluster}_{n_feature_cluster}_{alpha}_{negative_fix}.pkl"))
    return base, input_cluster, feature_cluster, input_feature_cluster


def acc_table_cluster(base, feature_cluster, input_cluster, input_feature_cluster):
    rows = [f"Digit: {label}" for label in range(-1, 10)]
    rows += ["Overall Known:" , "Overall Unknown:", "Overall"]
    cols = ["Base", "Input Cluster", "Feature Cluster", "Input Feature Cluster"]
    cells = []
    total_corr_known = np.zeros(4)
    total_samples_known = np.zeros(4)
    total_corr_unknown = np.zeros(4)
    total_samples_unknown = np.zeros(4)
    for label in sorted(base.keys()):
        corr = np.array([base[label][0], feature_cluster[label][0], input_cluster[label][0], input_feature_cluster[label][0]])
        samples = np.array([base[label][1], feature_cluster[label][1], input_cluster[label][1], input_feature_cluster[label][1]])
        if label != - 1:
            total_corr_known += corr
            total_samples_known += samples
            acc = corr/samples
            acc_formated = [f"{number:.3f}" for number in acc]
            cells.append(acc_formated)
        else:
            total_corr_unknown += corr
            total_samples_unknown += samples
            acc = corr/samples
            acc_formated = [f"{number:.3f}" for number in acc]
            cells.append(acc_formated)
            
    cells.append([f"{(tot_corr/tot_samp).item():.3f}" for tot_corr, tot_samp in zip(total_corr_known, total_samples_known)])
    cells.append([f"{(tot_corr/tot_samp).item():.3f}" for tot_corr, tot_samp in zip(total_corr_unknown, total_samples_unknown)])
    cells.append([f"{(tot_corr/tot_samp).item():.3f}" for tot_corr, tot_samp in zip(total_corr_unknown + total_corr_known, total_samples_unknown + total_samples_known)])

    return cells, rows, cols
        


def plot_cluster_comparison(alphas, base, input_cluster, feature_cluster, input_feature_cluster, negative_fix):
    rows = len(base[0][0].keys())
    cols = len(alphas)
    fig, axs = plt.subplots(rows, cols)
    fig.set_figheight(500)
    fig.set_figwidth(20)
    if negative_fix == "ABS_REV_ACTV":
        negative_fix = "Negative Values"
    
    for col in range(cols):
        for row, key in enumerate(base[0][0].keys()):
            axs[row][col].title.set_text(f"{negative_fix}-{key}-{alphas[col]}")
            axs[row][col].plot(base[col][0][key][1], base[col][0][key][0], label="Base")
            axs[row][col].plot(feature_cluster[col][0][key][1], feature_cluster[col][0][key][0], label="Feature Cluster")
            axs[row][col].plot(input_cluster[col][0][key][1], input_cluster[col][0][key][0], label="Input Cluster")
            axs[row][col].plot(input_feature_cluster[col][0][key][1], input_feature_cluster[col][0][key][0], label="Input Feature Cluster")
            cell_text, rows_list, columns = acc_table_cluster(base[col][1][key], input_cluster[col][1][key], feature_cluster[col][1][key], input_feature_cluster[col][1][key])
            axs[row][col].table(
                cellText=cell_text, 
                rowLabels=rows_list, 
                # rowColours=colors,
                cellLoc = 'center',
                rowLoc = 'center',
                colLabels=columns, 
                bbox=[0.1, -1.2, 0.8, 1], #[left, bottom, width, height]
                loc='bottom'
            )

    
    for row in range(len(base[0][0].keys())):
        for col in range(len(negative_fixes)):
            axs[row][col].legend(loc="upper left")
            axs[row][col].set_xlabel('FPR')
            axs[row][col].set_ylabel('CCR')
            axs[row][col].grid()
            axs[row][col].set_xscale('log')
            axs[row][col].set_xlim(8 * 1e-5, 1.4)
           # axs[row][col].set_xlim([0, 1])  # sets the x-axis limits
            axs[row][col].set_ylim([0, 1])  # sets the y-axis limits
    plt.tight_layout()
    plt.show()


alphas = [-1, 7, 10]
n_input_cluster = 5
n_feature_cluster = 5
negative_fixes  = ["Original", "VALUE_SHIFT", "ABS_REV_ACTV"]
negative_fix = negative_fixes[0]
base, input_cluster, feature_cluster, input_feature_cluster = setup_cluster_comparison(alphas, n_input_cluster, n_feature_cluster, negative_fix)
plot_cluster_comparison(alphas, base, input_cluster, feature_cluster, input_feature_cluster, negative_fix)


alphas = [-1, 7, 10]
n_input_cluster = 5
n_feature_cluster = 5
negative_fixes  = ["Original", "VALUE_SHIFT", "ABS_REV_ACTV"]
negative_fix = negative_fixes[2]
base, input_cluster, feature_cluster, input_feature_cluster = setup_cluster_comparison(alphas, n_input_cluster, n_feature_cluster, negative_fix)
plot_cluster_comparison(alphas, base, input_cluster, feature_cluster, input_feature_cluster, negative_fix)
